{
  "nbformat": 4,
  "nbformat_minor": 0,
  "metadata": {
    "colab": {
      "name": "Pandas for DS & ML.ipynb",
      "provenance": []
    },
    "kernelspec": {
      "name": "python3",
      "display_name": "Python 3"
    }
  },
  "cells": [
    {
      "cell_type": "markdown",
      "metadata": {
        "id": "OI61VeRFvfAo",
        "colab_type": "text"
      },
      "source": [
        "Pandas leverages the power and speed of numpy so it is as fast as numpy.\n",
        "it provides rich & high robust data operations.\n"
      ]
    },
    {
      "cell_type": "code",
      "metadata": {
        "id": "6iL2cz_rSsbO",
        "colab_type": "code",
        "colab": {}
      },
      "source": [
        "import numpy as np\n",
        "import pandas as pd"
      ],
      "execution_count": 0,
      "outputs": []
    },
    {
      "cell_type": "code",
      "metadata": {
        "id": "P3lyMuWKTAxW",
        "colab_type": "code",
        "colab": {}
      },
      "source": [
        "dict1 = {\n",
        "    \"name\":['harry','rohan','skillf','shubh'],\n",
        "    \"marks\":[92,34,24,17],\n",
        "    \"city\":['rampur','kolkata','bareilly','antartica']\n",
        "}"
      ],
      "execution_count": 0,
      "outputs": []
    },
    {
      "cell_type": "markdown",
      "metadata": {
        "id": "qDrnlpjWJ6BM",
        "colab_type": "text"
      },
      "source": [
        "data framing the dict1"
      ]
    },
    {
      "cell_type": "code",
      "metadata": {
        "id": "YsWTuqHrTxh6",
        "colab_type": "code",
        "colab": {}
      },
      "source": [
        "df=pd.DataFrame(dict1)"
      ],
      "execution_count": 0,
      "outputs": []
    },
    {
      "cell_type": "code",
      "metadata": {
        "id": "Dsc-fryyUGD0",
        "colab_type": "code",
        "outputId": "309fbf2c-9701-46cf-d846-6a7700fd6a5a",
        "colab": {
          "base_uri": "https://localhost:8080/",
          "height": 173
        }
      },
      "source": [
        "df"
      ],
      "execution_count": 4,
      "outputs": [
        {
          "output_type": "execute_result",
          "data": {
            "text/html": [
              "<div>\n",
              "<style scoped>\n",
              "    .dataframe tbody tr th:only-of-type {\n",
              "        vertical-align: middle;\n",
              "    }\n",
              "\n",
              "    .dataframe tbody tr th {\n",
              "        vertical-align: top;\n",
              "    }\n",
              "\n",
              "    .dataframe thead th {\n",
              "        text-align: right;\n",
              "    }\n",
              "</style>\n",
              "<table border=\"1\" class=\"dataframe\">\n",
              "  <thead>\n",
              "    <tr style=\"text-align: right;\">\n",
              "      <th></th>\n",
              "      <th>name</th>\n",
              "      <th>marks</th>\n",
              "      <th>city</th>\n",
              "    </tr>\n",
              "  </thead>\n",
              "  <tbody>\n",
              "    <tr>\n",
              "      <th>0</th>\n",
              "      <td>harry</td>\n",
              "      <td>92</td>\n",
              "      <td>rampur</td>\n",
              "    </tr>\n",
              "    <tr>\n",
              "      <th>1</th>\n",
              "      <td>rohan</td>\n",
              "      <td>34</td>\n",
              "      <td>kolkata</td>\n",
              "    </tr>\n",
              "    <tr>\n",
              "      <th>2</th>\n",
              "      <td>skillf</td>\n",
              "      <td>24</td>\n",
              "      <td>bareilly</td>\n",
              "    </tr>\n",
              "    <tr>\n",
              "      <th>3</th>\n",
              "      <td>shubh</td>\n",
              "      <td>17</td>\n",
              "      <td>antartica</td>\n",
              "    </tr>\n",
              "  </tbody>\n",
              "</table>\n",
              "</div>"
            ],
            "text/plain": [
              "     name  marks       city\n",
              "0   harry     92     rampur\n",
              "1   rohan     34    kolkata\n",
              "2  skillf     24   bareilly\n",
              "3   shubh     17  antartica"
            ]
          },
          "metadata": {
            "tags": []
          },
          "execution_count": 4
        }
      ]
    },
    {
      "cell_type": "markdown",
      "metadata": {
        "id": "Xsn5ra_5KZah",
        "colab_type": "text"
      },
      "source": [
        "df.to_csv('name_of_file.csv') will create the csv file of df"
      ]
    },
    {
      "cell_type": "code",
      "metadata": {
        "id": "riNRP1hWJ9wD",
        "colab_type": "code",
        "colab": {}
      },
      "source": [
        "df.to_csv('friends.csv')"
      ],
      "execution_count": 0,
      "outputs": []
    },
    {
      "cell_type": "markdown",
      "metadata": {
        "id": "puIVW_tz5p2m",
        "colab_type": "text"
      },
      "source": [
        "\"index=false\" will delete the index"
      ]
    },
    {
      "cell_type": "code",
      "metadata": {
        "id": "78AtrFcg5Ace",
        "colab_type": "code",
        "colab": {}
      },
      "source": [
        "df.to_csv('friends_indexfalse.csv', index=False)"
      ],
      "execution_count": 0,
      "outputs": []
    },
    {
      "cell_type": "code",
      "metadata": {
        "id": "nPTm261s5z2S",
        "colab_type": "code",
        "colab": {
          "base_uri": "https://localhost:8080/",
          "height": 111
        },
        "outputId": "3b36ef22-d654-493d-f4a1-999bfd2d2e32"
      },
      "source": [
        "df.head(2)"
      ],
      "execution_count": 7,
      "outputs": [
        {
          "output_type": "execute_result",
          "data": {
            "text/html": [
              "<div>\n",
              "<style scoped>\n",
              "    .dataframe tbody tr th:only-of-type {\n",
              "        vertical-align: middle;\n",
              "    }\n",
              "\n",
              "    .dataframe tbody tr th {\n",
              "        vertical-align: top;\n",
              "    }\n",
              "\n",
              "    .dataframe thead th {\n",
              "        text-align: right;\n",
              "    }\n",
              "</style>\n",
              "<table border=\"1\" class=\"dataframe\">\n",
              "  <thead>\n",
              "    <tr style=\"text-align: right;\">\n",
              "      <th></th>\n",
              "      <th>name</th>\n",
              "      <th>marks</th>\n",
              "      <th>city</th>\n",
              "    </tr>\n",
              "  </thead>\n",
              "  <tbody>\n",
              "    <tr>\n",
              "      <th>0</th>\n",
              "      <td>harry</td>\n",
              "      <td>92</td>\n",
              "      <td>rampur</td>\n",
              "    </tr>\n",
              "    <tr>\n",
              "      <th>1</th>\n",
              "      <td>rohan</td>\n",
              "      <td>34</td>\n",
              "      <td>kolkata</td>\n",
              "    </tr>\n",
              "  </tbody>\n",
              "</table>\n",
              "</div>"
            ],
            "text/plain": [
              "    name  marks     city\n",
              "0  harry     92   rampur\n",
              "1  rohan     34  kolkata"
            ]
          },
          "metadata": {
            "tags": []
          },
          "execution_count": 7
        }
      ]
    },
    {
      "cell_type": "code",
      "metadata": {
        "id": "KnymHrLH52eV",
        "colab_type": "code",
        "colab": {
          "base_uri": "https://localhost:8080/",
          "height": 111
        },
        "outputId": "582ac6a9-356e-4a82-8b49-84c9bb6b2781"
      },
      "source": [
        "df.tail(2)"
      ],
      "execution_count": 8,
      "outputs": [
        {
          "output_type": "execute_result",
          "data": {
            "text/html": [
              "<div>\n",
              "<style scoped>\n",
              "    .dataframe tbody tr th:only-of-type {\n",
              "        vertical-align: middle;\n",
              "    }\n",
              "\n",
              "    .dataframe tbody tr th {\n",
              "        vertical-align: top;\n",
              "    }\n",
              "\n",
              "    .dataframe thead th {\n",
              "        text-align: right;\n",
              "    }\n",
              "</style>\n",
              "<table border=\"1\" class=\"dataframe\">\n",
              "  <thead>\n",
              "    <tr style=\"text-align: right;\">\n",
              "      <th></th>\n",
              "      <th>name</th>\n",
              "      <th>marks</th>\n",
              "      <th>city</th>\n",
              "    </tr>\n",
              "  </thead>\n",
              "  <tbody>\n",
              "    <tr>\n",
              "      <th>2</th>\n",
              "      <td>skillf</td>\n",
              "      <td>24</td>\n",
              "      <td>bareilly</td>\n",
              "    </tr>\n",
              "    <tr>\n",
              "      <th>3</th>\n",
              "      <td>shubh</td>\n",
              "      <td>17</td>\n",
              "      <td>antartica</td>\n",
              "    </tr>\n",
              "  </tbody>\n",
              "</table>\n",
              "</div>"
            ],
            "text/plain": [
              "     name  marks       city\n",
              "2  skillf     24   bareilly\n",
              "3   shubh     17  antartica"
            ]
          },
          "metadata": {
            "tags": []
          },
          "execution_count": 8
        }
      ]
    },
    {
      "cell_type": "markdown",
      "metadata": {
        "id": "buQ_505x6BE6",
        "colab_type": "text"
      },
      "source": [
        "df.describe() will decsribe about df"
      ]
    },
    {
      "cell_type": "code",
      "metadata": {
        "id": "0H1bn8GR57LI",
        "colab_type": "code",
        "colab": {
          "base_uri": "https://localhost:8080/",
          "height": 297
        },
        "outputId": "b8ef7bd3-a23a-476b-aed2-a243207d42c2"
      },
      "source": [
        "df.describe()"
      ],
      "execution_count": 9,
      "outputs": [
        {
          "output_type": "execute_result",
          "data": {
            "text/html": [
              "<div>\n",
              "<style scoped>\n",
              "    .dataframe tbody tr th:only-of-type {\n",
              "        vertical-align: middle;\n",
              "    }\n",
              "\n",
              "    .dataframe tbody tr th {\n",
              "        vertical-align: top;\n",
              "    }\n",
              "\n",
              "    .dataframe thead th {\n",
              "        text-align: right;\n",
              "    }\n",
              "</style>\n",
              "<table border=\"1\" class=\"dataframe\">\n",
              "  <thead>\n",
              "    <tr style=\"text-align: right;\">\n",
              "      <th></th>\n",
              "      <th>marks</th>\n",
              "    </tr>\n",
              "  </thead>\n",
              "  <tbody>\n",
              "    <tr>\n",
              "      <th>count</th>\n",
              "      <td>4.00000</td>\n",
              "    </tr>\n",
              "    <tr>\n",
              "      <th>mean</th>\n",
              "      <td>41.75000</td>\n",
              "    </tr>\n",
              "    <tr>\n",
              "      <th>std</th>\n",
              "      <td>34.21866</td>\n",
              "    </tr>\n",
              "    <tr>\n",
              "      <th>min</th>\n",
              "      <td>17.00000</td>\n",
              "    </tr>\n",
              "    <tr>\n",
              "      <th>25%</th>\n",
              "      <td>22.25000</td>\n",
              "    </tr>\n",
              "    <tr>\n",
              "      <th>50%</th>\n",
              "      <td>29.00000</td>\n",
              "    </tr>\n",
              "    <tr>\n",
              "      <th>75%</th>\n",
              "      <td>48.50000</td>\n",
              "    </tr>\n",
              "    <tr>\n",
              "      <th>max</th>\n",
              "      <td>92.00000</td>\n",
              "    </tr>\n",
              "  </tbody>\n",
              "</table>\n",
              "</div>"
            ],
            "text/plain": [
              "          marks\n",
              "count   4.00000\n",
              "mean   41.75000\n",
              "std    34.21866\n",
              "min    17.00000\n",
              "25%    22.25000\n",
              "50%    29.00000\n",
              "75%    48.50000\n",
              "max    92.00000"
            ]
          },
          "metadata": {
            "tags": []
          },
          "execution_count": 9
        }
      ]
    },
    {
      "cell_type": "markdown",
      "metadata": {
        "id": "LoI9wLAn72kH",
        "colab_type": "text"
      },
      "source": [
        "to read a csv file"
      ]
    },
    {
      "cell_type": "code",
      "metadata": {
        "id": "ZvME9-9U6JrF",
        "colab_type": "code",
        "colab": {}
      },
      "source": [
        "harry = pd.read_csv('abc.csv')"
      ],
      "execution_count": 0,
      "outputs": []
    },
    {
      "cell_type": "code",
      "metadata": {
        "id": "nrsPIIyD7yMJ",
        "colab_type": "code",
        "colab": {
          "base_uri": "https://localhost:8080/",
          "height": 173
        },
        "outputId": "44637bba-8748-44ba-b550-e48c5f866535"
      },
      "source": [
        "harry"
      ],
      "execution_count": 11,
      "outputs": [
        {
          "output_type": "execute_result",
          "data": {
            "text/html": [
              "<div>\n",
              "<style scoped>\n",
              "    .dataframe tbody tr th:only-of-type {\n",
              "        vertical-align: middle;\n",
              "    }\n",
              "\n",
              "    .dataframe tbody tr th {\n",
              "        vertical-align: top;\n",
              "    }\n",
              "\n",
              "    .dataframe thead th {\n",
              "        text-align: right;\n",
              "    }\n",
              "</style>\n",
              "<table border=\"1\" class=\"dataframe\">\n",
              "  <thead>\n",
              "    <tr style=\"text-align: right;\">\n",
              "      <th></th>\n",
              "      <th>Unnamed: 0</th>\n",
              "      <th>train no</th>\n",
              "      <th>speed</th>\n",
              "      <th>city</th>\n",
              "    </tr>\n",
              "  </thead>\n",
              "  <tbody>\n",
              "    <tr>\n",
              "      <th>0</th>\n",
              "      <td>0</td>\n",
              "      <td>1541</td>\n",
              "      <td>50</td>\n",
              "      <td>rampur</td>\n",
              "    </tr>\n",
              "    <tr>\n",
              "      <th>1</th>\n",
              "      <td>1</td>\n",
              "      <td>4875</td>\n",
              "      <td>34</td>\n",
              "      <td>kolkata</td>\n",
              "    </tr>\n",
              "    <tr>\n",
              "      <th>2</th>\n",
              "      <td>2</td>\n",
              "      <td>879</td>\n",
              "      <td>24</td>\n",
              "      <td>bareilly</td>\n",
              "    </tr>\n",
              "    <tr>\n",
              "      <th>3</th>\n",
              "      <td>3</td>\n",
              "      <td>9597</td>\n",
              "      <td>17</td>\n",
              "      <td>antartica</td>\n",
              "    </tr>\n",
              "  </tbody>\n",
              "</table>\n",
              "</div>"
            ],
            "text/plain": [
              "   Unnamed: 0  train no  speed       city\n",
              "0           0      1541     50     rampur\n",
              "1           1      4875     34    kolkata\n",
              "2           2       879     24   bareilly\n",
              "3           3      9597     17  antartica"
            ]
          },
          "metadata": {
            "tags": []
          },
          "execution_count": 11
        }
      ]
    },
    {
      "cell_type": "markdown",
      "metadata": {
        "id": "yaeNRtHJ8gha",
        "colab_type": "text"
      },
      "source": [
        "to change the value in speed column"
      ]
    },
    {
      "cell_type": "code",
      "metadata": {
        "id": "UJFaKFQ675wv",
        "colab_type": "code",
        "colab": {
          "base_uri": "https://localhost:8080/",
          "height": 102
        },
        "outputId": "24d12286-16bf-43c1-ea32-11daf9bb983f"
      },
      "source": [
        "harry['speed'][0]=50"
      ],
      "execution_count": 12,
      "outputs": [
        {
          "output_type": "stream",
          "text": [
            "/usr/local/lib/python3.6/dist-packages/ipykernel_launcher.py:1: SettingWithCopyWarning: \n",
            "A value is trying to be set on a copy of a slice from a DataFrame\n",
            "\n",
            "See the caveats in the documentation: https://pandas.pydata.org/pandas-docs/stable/user_guide/indexing.html#returning-a-view-versus-a-copy\n",
            "  \"\"\"Entry point for launching an IPython kernel.\n"
          ],
          "name": "stderr"
        }
      ]
    },
    {
      "cell_type": "markdown",
      "metadata": {
        "id": "K4wSmp4Z4pSN",
        "colab_type": "text"
      },
      "source": [
        "<<<<<<<<<warning in above cell, the warning had been studied in loc>>>>>>>>>>>>>"
      ]
    },
    {
      "cell_type": "code",
      "metadata": {
        "id": "MkAngxm88Nm5",
        "colab_type": "code",
        "colab": {}
      },
      "source": [
        "harry.to_csv('abc.csv')"
      ],
      "execution_count": 0,
      "outputs": []
    },
    {
      "cell_type": "code",
      "metadata": {
        "id": "UEc_aQRy8eIa",
        "colab_type": "code",
        "colab": {}
      },
      "source": [
        "harry.index=['first','second','third','fourth']"
      ],
      "execution_count": 0,
      "outputs": []
    },
    {
      "cell_type": "code",
      "metadata": {
        "id": "20CGeKox8tMF",
        "colab_type": "code",
        "colab": {
          "base_uri": "https://localhost:8080/",
          "height": 173
        },
        "outputId": "188658b4-d457-4889-c5a5-9fa316b2dd74"
      },
      "source": [
        "harry"
      ],
      "execution_count": 15,
      "outputs": [
        {
          "output_type": "execute_result",
          "data": {
            "text/html": [
              "<div>\n",
              "<style scoped>\n",
              "    .dataframe tbody tr th:only-of-type {\n",
              "        vertical-align: middle;\n",
              "    }\n",
              "\n",
              "    .dataframe tbody tr th {\n",
              "        vertical-align: top;\n",
              "    }\n",
              "\n",
              "    .dataframe thead th {\n",
              "        text-align: right;\n",
              "    }\n",
              "</style>\n",
              "<table border=\"1\" class=\"dataframe\">\n",
              "  <thead>\n",
              "    <tr style=\"text-align: right;\">\n",
              "      <th></th>\n",
              "      <th>Unnamed: 0</th>\n",
              "      <th>train no</th>\n",
              "      <th>speed</th>\n",
              "      <th>city</th>\n",
              "    </tr>\n",
              "  </thead>\n",
              "  <tbody>\n",
              "    <tr>\n",
              "      <th>first</th>\n",
              "      <td>0</td>\n",
              "      <td>1541</td>\n",
              "      <td>50</td>\n",
              "      <td>rampur</td>\n",
              "    </tr>\n",
              "    <tr>\n",
              "      <th>second</th>\n",
              "      <td>1</td>\n",
              "      <td>4875</td>\n",
              "      <td>34</td>\n",
              "      <td>kolkata</td>\n",
              "    </tr>\n",
              "    <tr>\n",
              "      <th>third</th>\n",
              "      <td>2</td>\n",
              "      <td>879</td>\n",
              "      <td>24</td>\n",
              "      <td>bareilly</td>\n",
              "    </tr>\n",
              "    <tr>\n",
              "      <th>fourth</th>\n",
              "      <td>3</td>\n",
              "      <td>9597</td>\n",
              "      <td>17</td>\n",
              "      <td>antartica</td>\n",
              "    </tr>\n",
              "  </tbody>\n",
              "</table>\n",
              "</div>"
            ],
            "text/plain": [
              "        Unnamed: 0  train no  speed       city\n",
              "first            0      1541     50     rampur\n",
              "second           1      4875     34    kolkata\n",
              "third            2       879     24   bareilly\n",
              "fourth           3      9597     17  antartica"
            ]
          },
          "metadata": {
            "tags": []
          },
          "execution_count": 15
        }
      ]
    },
    {
      "cell_type": "markdown",
      "metadata": {
        "id": "Dk-1_F59v9rq",
        "colab_type": "text"
      },
      "source": [
        "**Pandas Data Structutes**\n",
        "**2 types**:\n",
        "1. **SERIES**- its a 1-D array with indexes, it stores a single column or row of data in a dataframe.\n",
        "2. **DATAFRAME**- Its a tabular spreadsheet like structures representing rows each of which contains one or multiple columns.\n",
        "\n",
        "\n",
        "A 1d array(labeled) capable of holding any type of data- **SERIES**.\n",
        "\n",
        "A 2d data(labeled) structure with column of potentially different types of data- **DATAFRAME**"
      ]
    },
    {
      "cell_type": "markdown",
      "metadata": {
        "id": "TQ3vUFU7zdv0",
        "colab_type": "text"
      },
      "source": [
        "__________________________________________________________________________________"
      ]
    },
    {
      "cell_type": "markdown",
      "metadata": {
        "id": "Hq9rIwrZy-00",
        "colab_type": "text"
      },
      "source": [
        "pd.Series(np.random.rand(34) will make a series which will be made with the help of numpy, and this Series will have from 0 to 33."
      ]
    },
    {
      "cell_type": "code",
      "metadata": {
        "id": "vobryqYyvoVW",
        "colab_type": "code",
        "colab": {}
      },
      "source": [
        "ser=pd.Series(np.random.rand(34))"
      ],
      "execution_count": 0,
      "outputs": []
    },
    {
      "cell_type": "code",
      "metadata": {
        "id": "ZIci59aEy5I1",
        "colab_type": "code",
        "colab": {
          "base_uri": "https://localhost:8080/",
          "height": 612
        },
        "outputId": "4a7bfc5c-d6cc-479d-f211-aa38771277cd"
      },
      "source": [
        "ser"
      ],
      "execution_count": 20,
      "outputs": [
        {
          "output_type": "execute_result",
          "data": {
            "text/plain": [
              "0     0.473528\n",
              "1     0.301054\n",
              "2     0.389335\n",
              "3     0.363648\n",
              "4     0.704215\n",
              "5     0.184995\n",
              "6     0.168502\n",
              "7     0.786787\n",
              "8     0.611604\n",
              "9     0.975117\n",
              "10    0.913644\n",
              "11    0.268010\n",
              "12    0.475306\n",
              "13    0.716909\n",
              "14    0.700662\n",
              "15    0.428351\n",
              "16    0.171538\n",
              "17    0.255920\n",
              "18    0.653623\n",
              "19    0.314010\n",
              "20    0.043116\n",
              "21    0.827600\n",
              "22    0.653950\n",
              "23    0.787601\n",
              "24    0.432695\n",
              "25    0.980865\n",
              "26    0.347823\n",
              "27    0.686604\n",
              "28    0.450072\n",
              "29    0.707836\n",
              "30    0.091653\n",
              "31    0.451720\n",
              "32    0.685442\n",
              "33    0.050875\n",
              "dtype: float64"
            ]
          },
          "metadata": {
            "tags": []
          },
          "execution_count": 20
        }
      ]
    },
    {
      "cell_type": "code",
      "metadata": {
        "id": "_4wxX_Wqzbc-",
        "colab_type": "code",
        "colab": {
          "base_uri": "https://localhost:8080/",
          "height": 34
        },
        "outputId": "729c733c-58fc-4a05-851b-4fd16bc1d01e"
      },
      "source": [
        "type(ser)"
      ],
      "execution_count": 21,
      "outputs": [
        {
          "output_type": "execute_result",
          "data": {
            "text/plain": [
              "pandas.core.series.Series"
            ]
          },
          "metadata": {
            "tags": []
          },
          "execution_count": 21
        }
      ]
    },
    {
      "cell_type": "code",
      "metadata": {
        "id": "j6tWH-e7znId",
        "colab_type": "code",
        "colab": {}
      },
      "source": [
        "newdf = pd.DataFrame(np.random.rand(334,5), index=np.arange(334))"
      ],
      "execution_count": 0,
      "outputs": []
    },
    {
      "cell_type": "code",
      "metadata": {
        "id": "8Qnwz8O-0PI3",
        "colab_type": "code",
        "colab": {
          "base_uri": "https://localhost:8080/",
          "height": 111
        },
        "outputId": "78fb7e40-7743-405c-cefd-a605c66d64cc"
      },
      "source": [
        "newdf.head(2)"
      ],
      "execution_count": 25,
      "outputs": [
        {
          "output_type": "execute_result",
          "data": {
            "text/html": [
              "<div>\n",
              "<style scoped>\n",
              "    .dataframe tbody tr th:only-of-type {\n",
              "        vertical-align: middle;\n",
              "    }\n",
              "\n",
              "    .dataframe tbody tr th {\n",
              "        vertical-align: top;\n",
              "    }\n",
              "\n",
              "    .dataframe thead th {\n",
              "        text-align: right;\n",
              "    }\n",
              "</style>\n",
              "<table border=\"1\" class=\"dataframe\">\n",
              "  <thead>\n",
              "    <tr style=\"text-align: right;\">\n",
              "      <th></th>\n",
              "      <th>0</th>\n",
              "      <th>1</th>\n",
              "      <th>2</th>\n",
              "      <th>3</th>\n",
              "      <th>4</th>\n",
              "    </tr>\n",
              "  </thead>\n",
              "  <tbody>\n",
              "    <tr>\n",
              "      <th>0</th>\n",
              "      <td>0.803896</td>\n",
              "      <td>0.037755</td>\n",
              "      <td>0.216857</td>\n",
              "      <td>0.831418</td>\n",
              "      <td>0.524184</td>\n",
              "    </tr>\n",
              "    <tr>\n",
              "      <th>1</th>\n",
              "      <td>0.712657</td>\n",
              "      <td>0.408719</td>\n",
              "      <td>0.503885</td>\n",
              "      <td>0.551374</td>\n",
              "      <td>0.168778</td>\n",
              "    </tr>\n",
              "  </tbody>\n",
              "</table>\n",
              "</div>"
            ],
            "text/plain": [
              "          0         1         2         3         4\n",
              "0  0.803896  0.037755  0.216857  0.831418  0.524184\n",
              "1  0.712657  0.408719  0.503885  0.551374  0.168778"
            ]
          },
          "metadata": {
            "tags": []
          },
          "execution_count": 25
        }
      ]
    },
    {
      "cell_type": "code",
      "metadata": {
        "id": "VN8T4qYN0Vn7",
        "colab_type": "code",
        "colab": {
          "base_uri": "https://localhost:8080/",
          "height": 34
        },
        "outputId": "bfb72dba-f285-4729-9ead-ccc25cb64336"
      },
      "source": [
        "type(newdf)"
      ],
      "execution_count": 26,
      "outputs": [
        {
          "output_type": "execute_result",
          "data": {
            "text/plain": [
              "pandas.core.frame.DataFrame"
            ]
          },
          "metadata": {
            "tags": []
          },
          "execution_count": 26
        }
      ]
    },
    {
      "cell_type": "code",
      "metadata": {
        "id": "qOKK7iO00Z2H",
        "colab_type": "code",
        "colab": {
          "base_uri": "https://localhost:8080/",
          "height": 297
        },
        "outputId": "d2001623-aa2e-4084-f1b2-148d6d21d66a"
      },
      "source": [
        "newdf.describe()"
      ],
      "execution_count": 27,
      "outputs": [
        {
          "output_type": "execute_result",
          "data": {
            "text/html": [
              "<div>\n",
              "<style scoped>\n",
              "    .dataframe tbody tr th:only-of-type {\n",
              "        vertical-align: middle;\n",
              "    }\n",
              "\n",
              "    .dataframe tbody tr th {\n",
              "        vertical-align: top;\n",
              "    }\n",
              "\n",
              "    .dataframe thead th {\n",
              "        text-align: right;\n",
              "    }\n",
              "</style>\n",
              "<table border=\"1\" class=\"dataframe\">\n",
              "  <thead>\n",
              "    <tr style=\"text-align: right;\">\n",
              "      <th></th>\n",
              "      <th>0</th>\n",
              "      <th>1</th>\n",
              "      <th>2</th>\n",
              "      <th>3</th>\n",
              "      <th>4</th>\n",
              "    </tr>\n",
              "  </thead>\n",
              "  <tbody>\n",
              "    <tr>\n",
              "      <th>count</th>\n",
              "      <td>334.000000</td>\n",
              "      <td>334.000000</td>\n",
              "      <td>334.000000</td>\n",
              "      <td>334.000000</td>\n",
              "      <td>334.000000</td>\n",
              "    </tr>\n",
              "    <tr>\n",
              "      <th>mean</th>\n",
              "      <td>0.476349</td>\n",
              "      <td>0.493111</td>\n",
              "      <td>0.518301</td>\n",
              "      <td>0.480797</td>\n",
              "      <td>0.487998</td>\n",
              "    </tr>\n",
              "    <tr>\n",
              "      <th>std</th>\n",
              "      <td>0.279230</td>\n",
              "      <td>0.292478</td>\n",
              "      <td>0.288224</td>\n",
              "      <td>0.293667</td>\n",
              "      <td>0.289565</td>\n",
              "    </tr>\n",
              "    <tr>\n",
              "      <th>min</th>\n",
              "      <td>0.000743</td>\n",
              "      <td>0.004356</td>\n",
              "      <td>0.004108</td>\n",
              "      <td>0.000230</td>\n",
              "      <td>0.004801</td>\n",
              "    </tr>\n",
              "    <tr>\n",
              "      <th>25%</th>\n",
              "      <td>0.246904</td>\n",
              "      <td>0.224599</td>\n",
              "      <td>0.270386</td>\n",
              "      <td>0.239055</td>\n",
              "      <td>0.236264</td>\n",
              "    </tr>\n",
              "    <tr>\n",
              "      <th>50%</th>\n",
              "      <td>0.459817</td>\n",
              "      <td>0.496724</td>\n",
              "      <td>0.545779</td>\n",
              "      <td>0.452754</td>\n",
              "      <td>0.481372</td>\n",
              "    </tr>\n",
              "    <tr>\n",
              "      <th>75%</th>\n",
              "      <td>0.707433</td>\n",
              "      <td>0.749292</td>\n",
              "      <td>0.750177</td>\n",
              "      <td>0.739616</td>\n",
              "      <td>0.721773</td>\n",
              "    </tr>\n",
              "    <tr>\n",
              "      <th>max</th>\n",
              "      <td>0.995067</td>\n",
              "      <td>0.996128</td>\n",
              "      <td>0.999518</td>\n",
              "      <td>0.990816</td>\n",
              "      <td>0.998875</td>\n",
              "    </tr>\n",
              "  </tbody>\n",
              "</table>\n",
              "</div>"
            ],
            "text/plain": [
              "                0           1           2           3           4\n",
              "count  334.000000  334.000000  334.000000  334.000000  334.000000\n",
              "mean     0.476349    0.493111    0.518301    0.480797    0.487998\n",
              "std      0.279230    0.292478    0.288224    0.293667    0.289565\n",
              "min      0.000743    0.004356    0.004108    0.000230    0.004801\n",
              "25%      0.246904    0.224599    0.270386    0.239055    0.236264\n",
              "50%      0.459817    0.496724    0.545779    0.452754    0.481372\n",
              "75%      0.707433    0.749292    0.750177    0.739616    0.721773\n",
              "max      0.995067    0.996128    0.999518    0.990816    0.998875"
            ]
          },
          "metadata": {
            "tags": []
          },
          "execution_count": 27
        }
      ]
    },
    {
      "cell_type": "markdown",
      "metadata": {
        "id": "Uo0FsY6H0liK",
        "colab_type": "text"
      },
      "source": [
        "it will tell what datatypes i have in what column"
      ]
    },
    {
      "cell_type": "code",
      "metadata": {
        "id": "qjAP8FRG0cy8",
        "colab_type": "code",
        "colab": {
          "base_uri": "https://localhost:8080/",
          "height": 119
        },
        "outputId": "536e664d-aa53-484c-cebf-a1c39e21cb2b"
      },
      "source": [
        "newdf.dtypes"
      ],
      "execution_count": 30,
      "outputs": [
        {
          "output_type": "execute_result",
          "data": {
            "text/plain": [
              "0    float64\n",
              "1    float64\n",
              "2    float64\n",
              "3    float64\n",
              "4    float64\n",
              "dtype: object"
            ]
          },
          "metadata": {
            "tags": []
          },
          "execution_count": 30
        }
      ]
    },
    {
      "cell_type": "code",
      "metadata": {
        "id": "0CDC_eoz04ch",
        "colab_type": "code",
        "colab": {}
      },
      "source": [
        "newdf[0][0]='harry'"
      ],
      "execution_count": 0,
      "outputs": []
    },
    {
      "cell_type": "code",
      "metadata": {
        "id": "TlJslbOB0-Ad",
        "colab_type": "code",
        "colab": {
          "base_uri": "https://localhost:8080/",
          "height": 119
        },
        "outputId": "efe78319-2676-4457-852f-639e53838225"
      },
      "source": [
        "newdf.dtypes"
      ],
      "execution_count": 33,
      "outputs": [
        {
          "output_type": "execute_result",
          "data": {
            "text/plain": [
              "0     object\n",
              "1    float64\n",
              "2    float64\n",
              "3    float64\n",
              "4    float64\n",
              "dtype: object"
            ]
          },
          "metadata": {
            "tags": []
          },
          "execution_count": 33
        }
      ]
    },
    {
      "cell_type": "markdown",
      "metadata": {
        "id": "iO_sl6jO1FwV",
        "colab_type": "text"
      },
      "source": [
        "will give number of index"
      ]
    },
    {
      "cell_type": "code",
      "metadata": {
        "id": "Vew6_HYE1Cko",
        "colab_type": "code",
        "colab": {
          "base_uri": "https://localhost:8080/",
          "height": 85
        },
        "outputId": "9279b95e-29c8-4c8a-b57c-d79a41361075"
      },
      "source": [
        "newdf.index"
      ],
      "execution_count": 34,
      "outputs": [
        {
          "output_type": "execute_result",
          "data": {
            "text/plain": [
              "Int64Index([  0,   1,   2,   3,   4,   5,   6,   7,   8,   9,\n",
              "            ...\n",
              "            324, 325, 326, 327, 328, 329, 330, 331, 332, 333],\n",
              "           dtype='int64', length=334)"
            ]
          },
          "metadata": {
            "tags": []
          },
          "execution_count": 34
        }
      ]
    },
    {
      "cell_type": "code",
      "metadata": {
        "id": "XoZp_HaG1JqX",
        "colab_type": "code",
        "colab": {
          "base_uri": "https://localhost:8080/",
          "height": 34
        },
        "outputId": "df47cfd5-6625-4fe2-a67b-c4c358b76c83"
      },
      "source": [
        "newdf.columns"
      ],
      "execution_count": 35,
      "outputs": [
        {
          "output_type": "execute_result",
          "data": {
            "text/plain": [
              "RangeIndex(start=0, stop=5, step=1)"
            ]
          },
          "metadata": {
            "tags": []
          },
          "execution_count": 35
        }
      ]
    },
    {
      "cell_type": "code",
      "metadata": {
        "id": "Ia5g2BHG1RGe",
        "colab_type": "code",
        "colab": {
          "base_uri": "https://localhost:8080/",
          "height": 238
        },
        "outputId": "b072130e-deba-4642-af17-3cf8d813dbc7"
      },
      "source": [
        "newdf.to_numpy()"
      ],
      "execution_count": 36,
      "outputs": [
        {
          "output_type": "execute_result",
          "data": {
            "text/plain": [
              "array([['harry', 0.037754623415272914, 0.216856745376812,\n",
              "        0.8314178625941125, 0.5241842814390095],\n",
              "       [0.7126568442997536, 0.40871922204229816, 0.5038845425528875,\n",
              "        0.5513740463030693, 0.16877840274795464],\n",
              "       [0.5902688135516395, 0.21990082724791205, 0.03577770188924523,\n",
              "        0.13262835873640377, 0.30753404954335317],\n",
              "       ...,\n",
              "       [0.16885089747816595, 0.036421913758025615, 0.2063030204504105,\n",
              "        0.9431087089594471, 0.903737824042374],\n",
              "       [0.6343374266330603, 0.694115962179845, 0.37577721744743253,\n",
              "        0.5859946457998462, 0.021510088281611495],\n",
              "       [0.45147823521935604, 0.2581132536412799, 0.2736028270170151,\n",
              "        0.11135226229093709, 0.27703460818422343]], dtype=object)"
            ]
          },
          "metadata": {
            "tags": []
          },
          "execution_count": 36
        }
      ]
    },
    {
      "cell_type": "code",
      "metadata": {
        "id": "adDPhyWX1dmM",
        "colab_type": "code",
        "colab": {
          "base_uri": "https://localhost:8080/",
          "height": 102
        },
        "outputId": "df51e889-5431-4aec-e9af-7bcb4534742f"
      },
      "source": [
        "newdf[0][0]='0.2'"
      ],
      "execution_count": 38,
      "outputs": [
        {
          "output_type": "stream",
          "text": [
            "/usr/local/lib/python3.6/dist-packages/ipykernel_launcher.py:1: SettingWithCopyWarning: \n",
            "A value is trying to be set on a copy of a slice from a DataFrame\n",
            "\n",
            "See the caveats in the documentation: https://pandas.pydata.org/pandas-docs/stable/user_guide/indexing.html#returning-a-view-versus-a-copy\n",
            "  \"\"\"Entry point for launching an IPython kernel.\n"
          ],
          "name": "stderr"
        }
      ]
    },
    {
      "cell_type": "markdown",
      "metadata": {
        "id": "0Mf3cq3-4iap",
        "colab_type": "text"
      },
      "source": [
        "<<<<<<<<<warning in above cell, the warning had been studied in **loc**>>>>>>>>>>>>>"
      ]
    },
    {
      "cell_type": "code",
      "metadata": {
        "id": "T_5DIE0v1gjy",
        "colab_type": "code",
        "colab": {
          "base_uri": "https://localhost:8080/",
          "height": 238
        },
        "outputId": "6511973d-9085-4f2a-c399-6ed82efca4fa"
      },
      "source": [
        "newdf.to_numpy()"
      ],
      "execution_count": 39,
      "outputs": [
        {
          "output_type": "execute_result",
          "data": {
            "text/plain": [
              "array([['0.2', 0.037754623415272914, 0.216856745376812,\n",
              "        0.8314178625941125, 0.5241842814390095],\n",
              "       [0.7126568442997536, 0.40871922204229816, 0.5038845425528875,\n",
              "        0.5513740463030693, 0.16877840274795464],\n",
              "       [0.5902688135516395, 0.21990082724791205, 0.03577770188924523,\n",
              "        0.13262835873640377, 0.30753404954335317],\n",
              "       ...,\n",
              "       [0.16885089747816595, 0.036421913758025615, 0.2063030204504105,\n",
              "        0.9431087089594471, 0.903737824042374],\n",
              "       [0.6343374266330603, 0.694115962179845, 0.37577721744743253,\n",
              "        0.5859946457998462, 0.021510088281611495],\n",
              "       [0.45147823521935604, 0.2581132536412799, 0.2736028270170151,\n",
              "        0.11135226229093709, 0.27703460818422343]], dtype=object)"
            ]
          },
          "metadata": {
            "tags": []
          },
          "execution_count": 39
        }
      ]
    },
    {
      "cell_type": "markdown",
      "metadata": {
        "id": "srPupD9B1lnb",
        "colab_type": "text"
      },
      "source": [
        "Transpose"
      ]
    },
    {
      "cell_type": "code",
      "metadata": {
        "id": "QI7W6u6p1kAp",
        "colab_type": "code",
        "colab": {
          "base_uri": "https://localhost:8080/",
          "height": 253
        },
        "outputId": "96b9a257-77b1-4090-e1a2-8409f4411aac"
      },
      "source": [
        "newdf.T"
      ],
      "execution_count": 42,
      "outputs": [
        {
          "output_type": "execute_result",
          "data": {
            "text/html": [
              "<div>\n",
              "<style scoped>\n",
              "    .dataframe tbody tr th:only-of-type {\n",
              "        vertical-align: middle;\n",
              "    }\n",
              "\n",
              "    .dataframe tbody tr th {\n",
              "        vertical-align: top;\n",
              "    }\n",
              "\n",
              "    .dataframe thead th {\n",
              "        text-align: right;\n",
              "    }\n",
              "</style>\n",
              "<table border=\"1\" class=\"dataframe\">\n",
              "  <thead>\n",
              "    <tr style=\"text-align: right;\">\n",
              "      <th></th>\n",
              "      <th>0</th>\n",
              "      <th>1</th>\n",
              "      <th>2</th>\n",
              "      <th>3</th>\n",
              "      <th>4</th>\n",
              "      <th>5</th>\n",
              "      <th>6</th>\n",
              "      <th>7</th>\n",
              "      <th>8</th>\n",
              "      <th>9</th>\n",
              "      <th>10</th>\n",
              "      <th>11</th>\n",
              "      <th>12</th>\n",
              "      <th>13</th>\n",
              "      <th>14</th>\n",
              "      <th>15</th>\n",
              "      <th>16</th>\n",
              "      <th>17</th>\n",
              "      <th>18</th>\n",
              "      <th>19</th>\n",
              "      <th>20</th>\n",
              "      <th>21</th>\n",
              "      <th>22</th>\n",
              "      <th>23</th>\n",
              "      <th>24</th>\n",
              "      <th>25</th>\n",
              "      <th>26</th>\n",
              "      <th>27</th>\n",
              "      <th>28</th>\n",
              "      <th>29</th>\n",
              "      <th>30</th>\n",
              "      <th>31</th>\n",
              "      <th>32</th>\n",
              "      <th>33</th>\n",
              "      <th>34</th>\n",
              "      <th>35</th>\n",
              "      <th>36</th>\n",
              "      <th>37</th>\n",
              "      <th>38</th>\n",
              "      <th>39</th>\n",
              "      <th>...</th>\n",
              "      <th>294</th>\n",
              "      <th>295</th>\n",
              "      <th>296</th>\n",
              "      <th>297</th>\n",
              "      <th>298</th>\n",
              "      <th>299</th>\n",
              "      <th>300</th>\n",
              "      <th>301</th>\n",
              "      <th>302</th>\n",
              "      <th>303</th>\n",
              "      <th>304</th>\n",
              "      <th>305</th>\n",
              "      <th>306</th>\n",
              "      <th>307</th>\n",
              "      <th>308</th>\n",
              "      <th>309</th>\n",
              "      <th>310</th>\n",
              "      <th>311</th>\n",
              "      <th>312</th>\n",
              "      <th>313</th>\n",
              "      <th>314</th>\n",
              "      <th>315</th>\n",
              "      <th>316</th>\n",
              "      <th>317</th>\n",
              "      <th>318</th>\n",
              "      <th>319</th>\n",
              "      <th>320</th>\n",
              "      <th>321</th>\n",
              "      <th>322</th>\n",
              "      <th>323</th>\n",
              "      <th>324</th>\n",
              "      <th>325</th>\n",
              "      <th>326</th>\n",
              "      <th>327</th>\n",
              "      <th>328</th>\n",
              "      <th>329</th>\n",
              "      <th>330</th>\n",
              "      <th>331</th>\n",
              "      <th>332</th>\n",
              "      <th>333</th>\n",
              "    </tr>\n",
              "  </thead>\n",
              "  <tbody>\n",
              "    <tr>\n",
              "      <th>0</th>\n",
              "      <td>0.2</td>\n",
              "      <td>0.712657</td>\n",
              "      <td>0.590269</td>\n",
              "      <td>0.897047</td>\n",
              "      <td>0.577552</td>\n",
              "      <td>0.367013</td>\n",
              "      <td>0.794972</td>\n",
              "      <td>0.714919</td>\n",
              "      <td>0.0974926</td>\n",
              "      <td>0.255862</td>\n",
              "      <td>0.104914</td>\n",
              "      <td>0.843686</td>\n",
              "      <td>0.987902</td>\n",
              "      <td>0.170301</td>\n",
              "      <td>0.127973</td>\n",
              "      <td>0.018846</td>\n",
              "      <td>0.597913</td>\n",
              "      <td>0.235303</td>\n",
              "      <td>0.0253517</td>\n",
              "      <td>0.426863</td>\n",
              "      <td>0.120655</td>\n",
              "      <td>0.762905</td>\n",
              "      <td>0.774214</td>\n",
              "      <td>0.495704</td>\n",
              "      <td>0.291958</td>\n",
              "      <td>0.81793</td>\n",
              "      <td>0.1262</td>\n",
              "      <td>0.460566</td>\n",
              "      <td>0.76378</td>\n",
              "      <td>0.912245</td>\n",
              "      <td>0.392282</td>\n",
              "      <td>0.226789</td>\n",
              "      <td>0.727116</td>\n",
              "      <td>0.373336</td>\n",
              "      <td>0.000742521</td>\n",
              "      <td>0.848777</td>\n",
              "      <td>0.960178</td>\n",
              "      <td>0.570756</td>\n",
              "      <td>0.3824</td>\n",
              "      <td>0.40334</td>\n",
              "      <td>...</td>\n",
              "      <td>0.61772</td>\n",
              "      <td>0.0850148</td>\n",
              "      <td>0.461658</td>\n",
              "      <td>0.459067</td>\n",
              "      <td>0.431556</td>\n",
              "      <td>0.897672</td>\n",
              "      <td>0.0107874</td>\n",
              "      <td>0.497615</td>\n",
              "      <td>0.277729</td>\n",
              "      <td>0.384993</td>\n",
              "      <td>0.134718</td>\n",
              "      <td>0.145598</td>\n",
              "      <td>0.319638</td>\n",
              "      <td>0.850045</td>\n",
              "      <td>0.619225</td>\n",
              "      <td>0.424442</td>\n",
              "      <td>0.081317</td>\n",
              "      <td>0.53726</td>\n",
              "      <td>0.936625</td>\n",
              "      <td>0.554978</td>\n",
              "      <td>0.0987843</td>\n",
              "      <td>0.8519</td>\n",
              "      <td>0.884388</td>\n",
              "      <td>0.665987</td>\n",
              "      <td>0.387254</td>\n",
              "      <td>0.830613</td>\n",
              "      <td>0.543483</td>\n",
              "      <td>0.410675</td>\n",
              "      <td>0.349483</td>\n",
              "      <td>0.795583</td>\n",
              "      <td>0.759472</td>\n",
              "      <td>0.881256</td>\n",
              "      <td>0.450335</td>\n",
              "      <td>0.70616</td>\n",
              "      <td>0.835692</td>\n",
              "      <td>0.693268</td>\n",
              "      <td>0.327396</td>\n",
              "      <td>0.168851</td>\n",
              "      <td>0.634337</td>\n",
              "      <td>0.451478</td>\n",
              "    </tr>\n",
              "    <tr>\n",
              "      <th>1</th>\n",
              "      <td>0.0377546</td>\n",
              "      <td>0.408719</td>\n",
              "      <td>0.219901</td>\n",
              "      <td>0.736057</td>\n",
              "      <td>0.280542</td>\n",
              "      <td>0.124402</td>\n",
              "      <td>0.537036</td>\n",
              "      <td>0.462613</td>\n",
              "      <td>0.331673</td>\n",
              "      <td>0.317826</td>\n",
              "      <td>0.115297</td>\n",
              "      <td>0.723252</td>\n",
              "      <td>0.264839</td>\n",
              "      <td>0.614393</td>\n",
              "      <td>0.493188</td>\n",
              "      <td>0.845132</td>\n",
              "      <td>0.748295</td>\n",
              "      <td>0.831754</td>\n",
              "      <td>0.427361</td>\n",
              "      <td>0.16847</td>\n",
              "      <td>0.945655</td>\n",
              "      <td>0.574513</td>\n",
              "      <td>0.450161</td>\n",
              "      <td>0.448184</td>\n",
              "      <td>0.961824</td>\n",
              "      <td>0.580964</td>\n",
              "      <td>0.422131</td>\n",
              "      <td>0.00805594</td>\n",
              "      <td>0.410337</td>\n",
              "      <td>0.411888</td>\n",
              "      <td>0.803104</td>\n",
              "      <td>0.224194</td>\n",
              "      <td>0.555625</td>\n",
              "      <td>0.101176</td>\n",
              "      <td>0.189159</td>\n",
              "      <td>0.705157</td>\n",
              "      <td>0.0682186</td>\n",
              "      <td>0.591716</td>\n",
              "      <td>0.544788</td>\n",
              "      <td>0.439449</td>\n",
              "      <td>...</td>\n",
              "      <td>0.0753399</td>\n",
              "      <td>0.881253</td>\n",
              "      <td>0.0530713</td>\n",
              "      <td>0.545949</td>\n",
              "      <td>0.117761</td>\n",
              "      <td>0.487614</td>\n",
              "      <td>0.936347</td>\n",
              "      <td>0.134462</td>\n",
              "      <td>0.246374</td>\n",
              "      <td>0.803162</td>\n",
              "      <td>0.262914</td>\n",
              "      <td>0.0851557</td>\n",
              "      <td>0.714004</td>\n",
              "      <td>0.301831</td>\n",
              "      <td>0.205967</td>\n",
              "      <td>0.539363</td>\n",
              "      <td>0.523377</td>\n",
              "      <td>0.330123</td>\n",
              "      <td>0.134992</td>\n",
              "      <td>0.937542</td>\n",
              "      <td>0.776734</td>\n",
              "      <td>0.745403</td>\n",
              "      <td>0.407082</td>\n",
              "      <td>0.00520129</td>\n",
              "      <td>0.818378</td>\n",
              "      <td>0.667483</td>\n",
              "      <td>0.257039</td>\n",
              "      <td>0.0339251</td>\n",
              "      <td>0.821901</td>\n",
              "      <td>0.163646</td>\n",
              "      <td>0.264706</td>\n",
              "      <td>0.55814</td>\n",
              "      <td>0.0715851</td>\n",
              "      <td>0.448589</td>\n",
              "      <td>0.762176</td>\n",
              "      <td>0.655266</td>\n",
              "      <td>0.988923</td>\n",
              "      <td>0.0364219</td>\n",
              "      <td>0.694116</td>\n",
              "      <td>0.258113</td>\n",
              "    </tr>\n",
              "    <tr>\n",
              "      <th>2</th>\n",
              "      <td>0.216857</td>\n",
              "      <td>0.503885</td>\n",
              "      <td>0.0357777</td>\n",
              "      <td>0.526577</td>\n",
              "      <td>0.299609</td>\n",
              "      <td>0.0867167</td>\n",
              "      <td>0.0643626</td>\n",
              "      <td>0.209522</td>\n",
              "      <td>0.585584</td>\n",
              "      <td>0.82597</td>\n",
              "      <td>0.356209</td>\n",
              "      <td>0.230159</td>\n",
              "      <td>0.803137</td>\n",
              "      <td>0.0951806</td>\n",
              "      <td>0.392952</td>\n",
              "      <td>0.302895</td>\n",
              "      <td>0.415647</td>\n",
              "      <td>0.753423</td>\n",
              "      <td>0.636828</td>\n",
              "      <td>0.734309</td>\n",
              "      <td>0.391639</td>\n",
              "      <td>0.356068</td>\n",
              "      <td>0.920937</td>\n",
              "      <td>0.123136</td>\n",
              "      <td>0.178367</td>\n",
              "      <td>0.893081</td>\n",
              "      <td>0.838674</td>\n",
              "      <td>0.963204</td>\n",
              "      <td>0.417679</td>\n",
              "      <td>0.689914</td>\n",
              "      <td>0.735504</td>\n",
              "      <td>0.568303</td>\n",
              "      <td>0.203587</td>\n",
              "      <td>0.712899</td>\n",
              "      <td>0.486219</td>\n",
              "      <td>0.723445</td>\n",
              "      <td>0.315395</td>\n",
              "      <td>0.181988</td>\n",
              "      <td>0.343673</td>\n",
              "      <td>0.102087</td>\n",
              "      <td>...</td>\n",
              "      <td>0.0528647</td>\n",
              "      <td>0.952855</td>\n",
              "      <td>0.837532</td>\n",
              "      <td>0.649469</td>\n",
              "      <td>0.74136</td>\n",
              "      <td>0.853537</td>\n",
              "      <td>0.684298</td>\n",
              "      <td>0.545721</td>\n",
              "      <td>0.688092</td>\n",
              "      <td>0.049275</td>\n",
              "      <td>0.995298</td>\n",
              "      <td>0.974584</td>\n",
              "      <td>0.45792</td>\n",
              "      <td>0.606464</td>\n",
              "      <td>0.718102</td>\n",
              "      <td>0.750416</td>\n",
              "      <td>0.64964</td>\n",
              "      <td>0.803144</td>\n",
              "      <td>0.306686</td>\n",
              "      <td>0.068881</td>\n",
              "      <td>0.22476</td>\n",
              "      <td>0.647693</td>\n",
              "      <td>0.638681</td>\n",
              "      <td>0.199738</td>\n",
              "      <td>0.372816</td>\n",
              "      <td>0.433718</td>\n",
              "      <td>0.846695</td>\n",
              "      <td>0.825488</td>\n",
              "      <td>0.00664442</td>\n",
              "      <td>0.413754</td>\n",
              "      <td>0.455372</td>\n",
              "      <td>0.998761</td>\n",
              "      <td>0.851297</td>\n",
              "      <td>0.494037</td>\n",
              "      <td>0.247007</td>\n",
              "      <td>0.925603</td>\n",
              "      <td>0.753816</td>\n",
              "      <td>0.206303</td>\n",
              "      <td>0.375777</td>\n",
              "      <td>0.273603</td>\n",
              "    </tr>\n",
              "    <tr>\n",
              "      <th>3</th>\n",
              "      <td>0.831418</td>\n",
              "      <td>0.551374</td>\n",
              "      <td>0.132628</td>\n",
              "      <td>0.284122</td>\n",
              "      <td>0.582474</td>\n",
              "      <td>0.2639</td>\n",
              "      <td>0.300082</td>\n",
              "      <td>0.273669</td>\n",
              "      <td>0.4863</td>\n",
              "      <td>0.429272</td>\n",
              "      <td>0.650954</td>\n",
              "      <td>0.222888</td>\n",
              "      <td>0.548283</td>\n",
              "      <td>0.383069</td>\n",
              "      <td>0.0263814</td>\n",
              "      <td>0.800433</td>\n",
              "      <td>0.761501</td>\n",
              "      <td>0.907518</td>\n",
              "      <td>0.126793</td>\n",
              "      <td>0.0937071</td>\n",
              "      <td>0.299937</td>\n",
              "      <td>0.948933</td>\n",
              "      <td>0.890249</td>\n",
              "      <td>0.0486447</td>\n",
              "      <td>0.53518</td>\n",
              "      <td>0.682468</td>\n",
              "      <td>0.597343</td>\n",
              "      <td>0.491638</td>\n",
              "      <td>0.0335851</td>\n",
              "      <td>0.05751</td>\n",
              "      <td>0.435869</td>\n",
              "      <td>0.233202</td>\n",
              "      <td>0.881774</td>\n",
              "      <td>0.122217</td>\n",
              "      <td>0.00862794</td>\n",
              "      <td>0.839464</td>\n",
              "      <td>0.413668</td>\n",
              "      <td>0.424949</td>\n",
              "      <td>0.0212728</td>\n",
              "      <td>0.181879</td>\n",
              "      <td>...</td>\n",
              "      <td>0.71341</td>\n",
              "      <td>0.0492007</td>\n",
              "      <td>0.263584</td>\n",
              "      <td>0.536106</td>\n",
              "      <td>0.451358</td>\n",
              "      <td>0.0461414</td>\n",
              "      <td>0.283794</td>\n",
              "      <td>0.857171</td>\n",
              "      <td>0.0947153</td>\n",
              "      <td>0.81801</td>\n",
              "      <td>0.485203</td>\n",
              "      <td>0.340146</td>\n",
              "      <td>0.333377</td>\n",
              "      <td>0.563637</td>\n",
              "      <td>0.302654</td>\n",
              "      <td>0.986234</td>\n",
              "      <td>0.352587</td>\n",
              "      <td>0.527851</td>\n",
              "      <td>0.467657</td>\n",
              "      <td>0.138536</td>\n",
              "      <td>0.961773</td>\n",
              "      <td>0.0363629</td>\n",
              "      <td>0.9257</td>\n",
              "      <td>0.974624</td>\n",
              "      <td>0.909394</td>\n",
              "      <td>0.865695</td>\n",
              "      <td>0.837847</td>\n",
              "      <td>0.0914357</td>\n",
              "      <td>0.831883</td>\n",
              "      <td>0.326812</td>\n",
              "      <td>0.609672</td>\n",
              "      <td>0.635123</td>\n",
              "      <td>0.140197</td>\n",
              "      <td>0.0626357</td>\n",
              "      <td>0.867926</td>\n",
              "      <td>0.344342</td>\n",
              "      <td>0.459164</td>\n",
              "      <td>0.943109</td>\n",
              "      <td>0.585995</td>\n",
              "      <td>0.111352</td>\n",
              "    </tr>\n",
              "    <tr>\n",
              "      <th>4</th>\n",
              "      <td>0.524184</td>\n",
              "      <td>0.168778</td>\n",
              "      <td>0.307534</td>\n",
              "      <td>0.897792</td>\n",
              "      <td>0.486116</td>\n",
              "      <td>0.246594</td>\n",
              "      <td>0.0555229</td>\n",
              "      <td>0.143864</td>\n",
              "      <td>0.730895</td>\n",
              "      <td>0.493029</td>\n",
              "      <td>0.992034</td>\n",
              "      <td>0.560821</td>\n",
              "      <td>0.563136</td>\n",
              "      <td>0.198906</td>\n",
              "      <td>0.899203</td>\n",
              "      <td>0.563168</td>\n",
              "      <td>0.409468</td>\n",
              "      <td>0.641798</td>\n",
              "      <td>0.869325</td>\n",
              "      <td>0.640371</td>\n",
              "      <td>0.0972348</td>\n",
              "      <td>0.884851</td>\n",
              "      <td>0.980886</td>\n",
              "      <td>0.162569</td>\n",
              "      <td>0.421473</td>\n",
              "      <td>0.399276</td>\n",
              "      <td>0.569503</td>\n",
              "      <td>0.903968</td>\n",
              "      <td>0.325926</td>\n",
              "      <td>0.750241</td>\n",
              "      <td>0.565277</td>\n",
              "      <td>0.0437712</td>\n",
              "      <td>0.53045</td>\n",
              "      <td>0.181958</td>\n",
              "      <td>0.57526</td>\n",
              "      <td>0.675944</td>\n",
              "      <td>0.583423</td>\n",
              "      <td>0.384989</td>\n",
              "      <td>0.179397</td>\n",
              "      <td>0.147446</td>\n",
              "      <td>...</td>\n",
              "      <td>0.74172</td>\n",
              "      <td>0.286634</td>\n",
              "      <td>0.287683</td>\n",
              "      <td>0.841521</td>\n",
              "      <td>0.123806</td>\n",
              "      <td>0.331101</td>\n",
              "      <td>0.326677</td>\n",
              "      <td>0.802981</td>\n",
              "      <td>0.322445</td>\n",
              "      <td>0.544929</td>\n",
              "      <td>0.396636</td>\n",
              "      <td>0.580385</td>\n",
              "      <td>0.990592</td>\n",
              "      <td>0.613411</td>\n",
              "      <td>0.449724</td>\n",
              "      <td>0.408922</td>\n",
              "      <td>0.416567</td>\n",
              "      <td>0.356592</td>\n",
              "      <td>0.298576</td>\n",
              "      <td>0.469089</td>\n",
              "      <td>0.369623</td>\n",
              "      <td>0.85412</td>\n",
              "      <td>0.586685</td>\n",
              "      <td>0.964034</td>\n",
              "      <td>0.148558</td>\n",
              "      <td>0.917896</td>\n",
              "      <td>0.516575</td>\n",
              "      <td>0.100146</td>\n",
              "      <td>0.872948</td>\n",
              "      <td>0.561215</td>\n",
              "      <td>0.584662</td>\n",
              "      <td>0.826944</td>\n",
              "      <td>0.592064</td>\n",
              "      <td>0.342991</td>\n",
              "      <td>0.605441</td>\n",
              "      <td>0.916829</td>\n",
              "      <td>0.659026</td>\n",
              "      <td>0.903738</td>\n",
              "      <td>0.0215101</td>\n",
              "      <td>0.277035</td>\n",
              "    </tr>\n",
              "  </tbody>\n",
              "</table>\n",
              "<p>5 rows × 334 columns</p>\n",
              "</div>"
            ],
            "text/plain": [
              "         0         1          2    ...        331        332       333\n",
              "0        0.2  0.712657   0.590269  ...   0.168851   0.634337  0.451478\n",
              "1  0.0377546  0.408719   0.219901  ...  0.0364219   0.694116  0.258113\n",
              "2   0.216857  0.503885  0.0357777  ...   0.206303   0.375777  0.273603\n",
              "3   0.831418  0.551374   0.132628  ...   0.943109   0.585995  0.111352\n",
              "4   0.524184  0.168778   0.307534  ...   0.903738  0.0215101  0.277035\n",
              "\n",
              "[5 rows x 334 columns]"
            ]
          },
          "metadata": {
            "tags": []
          },
          "execution_count": 42
        }
      ]
    },
    {
      "cell_type": "markdown",
      "metadata": {
        "id": "mc-S22nC1_fg",
        "colab_type": "text"
      },
      "source": [
        "for sorting of axis=0(rows) in asecnding=false(in descending order)"
      ]
    },
    {
      "cell_type": "code",
      "metadata": {
        "id": "hX2A8FEV1wv6",
        "colab_type": "code",
        "colab": {
          "base_uri": "https://localhost:8080/",
          "height": 419
        },
        "outputId": "e8b36f4d-31e1-4709-971f-7da8cf668560"
      },
      "source": [
        "newdf.sort_index(axis=0, ascending=False)"
      ],
      "execution_count": 44,
      "outputs": [
        {
          "output_type": "execute_result",
          "data": {
            "text/html": [
              "<div>\n",
              "<style scoped>\n",
              "    .dataframe tbody tr th:only-of-type {\n",
              "        vertical-align: middle;\n",
              "    }\n",
              "\n",
              "    .dataframe tbody tr th {\n",
              "        vertical-align: top;\n",
              "    }\n",
              "\n",
              "    .dataframe thead th {\n",
              "        text-align: right;\n",
              "    }\n",
              "</style>\n",
              "<table border=\"1\" class=\"dataframe\">\n",
              "  <thead>\n",
              "    <tr style=\"text-align: right;\">\n",
              "      <th></th>\n",
              "      <th>0</th>\n",
              "      <th>1</th>\n",
              "      <th>2</th>\n",
              "      <th>3</th>\n",
              "      <th>4</th>\n",
              "    </tr>\n",
              "  </thead>\n",
              "  <tbody>\n",
              "    <tr>\n",
              "      <th>333</th>\n",
              "      <td>0.451478</td>\n",
              "      <td>0.258113</td>\n",
              "      <td>0.273603</td>\n",
              "      <td>0.111352</td>\n",
              "      <td>0.277035</td>\n",
              "    </tr>\n",
              "    <tr>\n",
              "      <th>332</th>\n",
              "      <td>0.634337</td>\n",
              "      <td>0.694116</td>\n",
              "      <td>0.375777</td>\n",
              "      <td>0.585995</td>\n",
              "      <td>0.021510</td>\n",
              "    </tr>\n",
              "    <tr>\n",
              "      <th>331</th>\n",
              "      <td>0.168851</td>\n",
              "      <td>0.036422</td>\n",
              "      <td>0.206303</td>\n",
              "      <td>0.943109</td>\n",
              "      <td>0.903738</td>\n",
              "    </tr>\n",
              "    <tr>\n",
              "      <th>330</th>\n",
              "      <td>0.327396</td>\n",
              "      <td>0.988923</td>\n",
              "      <td>0.753816</td>\n",
              "      <td>0.459164</td>\n",
              "      <td>0.659026</td>\n",
              "    </tr>\n",
              "    <tr>\n",
              "      <th>329</th>\n",
              "      <td>0.693268</td>\n",
              "      <td>0.655266</td>\n",
              "      <td>0.925603</td>\n",
              "      <td>0.344342</td>\n",
              "      <td>0.916829</td>\n",
              "    </tr>\n",
              "    <tr>\n",
              "      <th>...</th>\n",
              "      <td>...</td>\n",
              "      <td>...</td>\n",
              "      <td>...</td>\n",
              "      <td>...</td>\n",
              "      <td>...</td>\n",
              "    </tr>\n",
              "    <tr>\n",
              "      <th>4</th>\n",
              "      <td>0.577552</td>\n",
              "      <td>0.280542</td>\n",
              "      <td>0.299609</td>\n",
              "      <td>0.582474</td>\n",
              "      <td>0.486116</td>\n",
              "    </tr>\n",
              "    <tr>\n",
              "      <th>3</th>\n",
              "      <td>0.897047</td>\n",
              "      <td>0.736057</td>\n",
              "      <td>0.526577</td>\n",
              "      <td>0.284122</td>\n",
              "      <td>0.897792</td>\n",
              "    </tr>\n",
              "    <tr>\n",
              "      <th>2</th>\n",
              "      <td>0.590269</td>\n",
              "      <td>0.219901</td>\n",
              "      <td>0.035778</td>\n",
              "      <td>0.132628</td>\n",
              "      <td>0.307534</td>\n",
              "    </tr>\n",
              "    <tr>\n",
              "      <th>1</th>\n",
              "      <td>0.712657</td>\n",
              "      <td>0.408719</td>\n",
              "      <td>0.503885</td>\n",
              "      <td>0.551374</td>\n",
              "      <td>0.168778</td>\n",
              "    </tr>\n",
              "    <tr>\n",
              "      <th>0</th>\n",
              "      <td>0.2</td>\n",
              "      <td>0.037755</td>\n",
              "      <td>0.216857</td>\n",
              "      <td>0.831418</td>\n",
              "      <td>0.524184</td>\n",
              "    </tr>\n",
              "  </tbody>\n",
              "</table>\n",
              "<p>334 rows × 5 columns</p>\n",
              "</div>"
            ],
            "text/plain": [
              "            0         1         2         3         4\n",
              "333  0.451478  0.258113  0.273603  0.111352  0.277035\n",
              "332  0.634337  0.694116  0.375777  0.585995  0.021510\n",
              "331  0.168851  0.036422  0.206303  0.943109  0.903738\n",
              "330  0.327396  0.988923  0.753816  0.459164  0.659026\n",
              "329  0.693268  0.655266  0.925603  0.344342  0.916829\n",
              "..        ...       ...       ...       ...       ...\n",
              "4    0.577552  0.280542  0.299609  0.582474  0.486116\n",
              "3    0.897047  0.736057  0.526577  0.284122  0.897792\n",
              "2    0.590269  0.219901  0.035778  0.132628  0.307534\n",
              "1    0.712657  0.408719  0.503885  0.551374  0.168778\n",
              "0         0.2  0.037755  0.216857  0.831418  0.524184\n",
              "\n",
              "[334 rows x 5 columns]"
            ]
          },
          "metadata": {
            "tags": []
          },
          "execution_count": 44
        }
      ]
    },
    {
      "cell_type": "code",
      "metadata": {
        "id": "WQ-xinh92Kq6",
        "colab_type": "code",
        "colab": {
          "base_uri": "https://localhost:8080/",
          "height": 204
        },
        "outputId": "d3156792-c325-4df5-a40c-b4015422651d"
      },
      "source": [
        "newdf.head()"
      ],
      "execution_count": 45,
      "outputs": [
        {
          "output_type": "execute_result",
          "data": {
            "text/html": [
              "<div>\n",
              "<style scoped>\n",
              "    .dataframe tbody tr th:only-of-type {\n",
              "        vertical-align: middle;\n",
              "    }\n",
              "\n",
              "    .dataframe tbody tr th {\n",
              "        vertical-align: top;\n",
              "    }\n",
              "\n",
              "    .dataframe thead th {\n",
              "        text-align: right;\n",
              "    }\n",
              "</style>\n",
              "<table border=\"1\" class=\"dataframe\">\n",
              "  <thead>\n",
              "    <tr style=\"text-align: right;\">\n",
              "      <th></th>\n",
              "      <th>0</th>\n",
              "      <th>1</th>\n",
              "      <th>2</th>\n",
              "      <th>3</th>\n",
              "      <th>4</th>\n",
              "    </tr>\n",
              "  </thead>\n",
              "  <tbody>\n",
              "    <tr>\n",
              "      <th>0</th>\n",
              "      <td>0.2</td>\n",
              "      <td>0.037755</td>\n",
              "      <td>0.216857</td>\n",
              "      <td>0.831418</td>\n",
              "      <td>0.524184</td>\n",
              "    </tr>\n",
              "    <tr>\n",
              "      <th>1</th>\n",
              "      <td>0.712657</td>\n",
              "      <td>0.408719</td>\n",
              "      <td>0.503885</td>\n",
              "      <td>0.551374</td>\n",
              "      <td>0.168778</td>\n",
              "    </tr>\n",
              "    <tr>\n",
              "      <th>2</th>\n",
              "      <td>0.590269</td>\n",
              "      <td>0.219901</td>\n",
              "      <td>0.035778</td>\n",
              "      <td>0.132628</td>\n",
              "      <td>0.307534</td>\n",
              "    </tr>\n",
              "    <tr>\n",
              "      <th>3</th>\n",
              "      <td>0.897047</td>\n",
              "      <td>0.736057</td>\n",
              "      <td>0.526577</td>\n",
              "      <td>0.284122</td>\n",
              "      <td>0.897792</td>\n",
              "    </tr>\n",
              "    <tr>\n",
              "      <th>4</th>\n",
              "      <td>0.577552</td>\n",
              "      <td>0.280542</td>\n",
              "      <td>0.299609</td>\n",
              "      <td>0.582474</td>\n",
              "      <td>0.486116</td>\n",
              "    </tr>\n",
              "  </tbody>\n",
              "</table>\n",
              "</div>"
            ],
            "text/plain": [
              "          0         1         2         3         4\n",
              "0       0.2  0.037755  0.216857  0.831418  0.524184\n",
              "1  0.712657  0.408719  0.503885  0.551374  0.168778\n",
              "2  0.590269  0.219901  0.035778  0.132628  0.307534\n",
              "3  0.897047  0.736057  0.526577  0.284122  0.897792\n",
              "4  0.577552  0.280542  0.299609  0.582474  0.486116"
            ]
          },
          "metadata": {
            "tags": []
          },
          "execution_count": 45
        }
      ]
    },
    {
      "cell_type": "code",
      "metadata": {
        "id": "tFS8f9J82OpU",
        "colab_type": "code",
        "colab": {
          "base_uri": "https://localhost:8080/",
          "height": 221
        },
        "outputId": "97add66d-e782-4d8f-a96a-d2ae0e25da60"
      },
      "source": [
        "newdf[0]"
      ],
      "execution_count": 46,
      "outputs": [
        {
          "output_type": "execute_result",
          "data": {
            "text/plain": [
              "0           0.2\n",
              "1      0.712657\n",
              "2      0.590269\n",
              "3      0.897047\n",
              "4      0.577552\n",
              "         ...   \n",
              "329    0.693268\n",
              "330    0.327396\n",
              "331    0.168851\n",
              "332    0.634337\n",
              "333    0.451478\n",
              "Name: 0, Length: 334, dtype: object"
            ]
          },
          "metadata": {
            "tags": []
          },
          "execution_count": 46
        }
      ]
    },
    {
      "cell_type": "code",
      "metadata": {
        "id": "vPhgq3zp2TD7",
        "colab_type": "code",
        "colab": {
          "base_uri": "https://localhost:8080/",
          "height": 34
        },
        "outputId": "63681f0c-bce3-4974-d487-2e4ecc6bd144"
      },
      "source": [
        "type(newdf[0])"
      ],
      "execution_count": 47,
      "outputs": [
        {
          "output_type": "execute_result",
          "data": {
            "text/plain": [
              "pandas.core.series.Series"
            ]
          },
          "metadata": {
            "tags": []
          },
          "execution_count": 47
        }
      ]
    },
    {
      "cell_type": "markdown",
      "metadata": {
        "id": "B35uAaiu2osQ",
        "colab_type": "text"
      },
      "source": [
        "newdf will not be copied to newdf2, here newdf2 will be **POINTING** newdf. So any changes in newdf2 will change the value in newdf"
      ]
    },
    {
      "cell_type": "code",
      "metadata": {
        "id": "AB-FV8zr2hnM",
        "colab_type": "code",
        "colab": {}
      },
      "source": [
        "newdf2=newdf"
      ],
      "execution_count": 0,
      "outputs": []
    },
    {
      "cell_type": "code",
      "metadata": {
        "id": "aQaRb8lm2vZG",
        "colab_type": "code",
        "colab": {
          "base_uri": "https://localhost:8080/",
          "height": 102
        },
        "outputId": "776982f8-c581-4f5d-c8e8-4410801155f7"
      },
      "source": [
        "newdf2[0][0]=9783"
      ],
      "execution_count": 49,
      "outputs": [
        {
          "output_type": "stream",
          "text": [
            "/usr/local/lib/python3.6/dist-packages/ipykernel_launcher.py:1: SettingWithCopyWarning: \n",
            "A value is trying to be set on a copy of a slice from a DataFrame\n",
            "\n",
            "See the caveats in the documentation: https://pandas.pydata.org/pandas-docs/stable/user_guide/indexing.html#returning-a-view-versus-a-copy\n",
            "  \"\"\"Entry point for launching an IPython kernel.\n"
          ],
          "name": "stderr"
        }
      ]
    },
    {
      "cell_type": "markdown",
      "metadata": {
        "id": "9YiPLJsB4Az3",
        "colab_type": "text"
      },
      "source": [
        "<<<<<<<<<warning in above cell, the warning had been studied in **loc**>>>>>>>>>>>>>"
      ]
    },
    {
      "cell_type": "code",
      "metadata": {
        "id": "Z83ZBwYD22u3",
        "colab_type": "code",
        "colab": {
          "base_uri": "https://localhost:8080/",
          "height": 419
        },
        "outputId": "72afb57f-f1af-442c-e2b3-aa82ee51f169"
      },
      "source": [
        "newdf"
      ],
      "execution_count": 50,
      "outputs": [
        {
          "output_type": "execute_result",
          "data": {
            "text/html": [
              "<div>\n",
              "<style scoped>\n",
              "    .dataframe tbody tr th:only-of-type {\n",
              "        vertical-align: middle;\n",
              "    }\n",
              "\n",
              "    .dataframe tbody tr th {\n",
              "        vertical-align: top;\n",
              "    }\n",
              "\n",
              "    .dataframe thead th {\n",
              "        text-align: right;\n",
              "    }\n",
              "</style>\n",
              "<table border=\"1\" class=\"dataframe\">\n",
              "  <thead>\n",
              "    <tr style=\"text-align: right;\">\n",
              "      <th></th>\n",
              "      <th>0</th>\n",
              "      <th>1</th>\n",
              "      <th>2</th>\n",
              "      <th>3</th>\n",
              "      <th>4</th>\n",
              "    </tr>\n",
              "  </thead>\n",
              "  <tbody>\n",
              "    <tr>\n",
              "      <th>0</th>\n",
              "      <td>9783</td>\n",
              "      <td>0.037755</td>\n",
              "      <td>0.216857</td>\n",
              "      <td>0.831418</td>\n",
              "      <td>0.524184</td>\n",
              "    </tr>\n",
              "    <tr>\n",
              "      <th>1</th>\n",
              "      <td>0.712657</td>\n",
              "      <td>0.408719</td>\n",
              "      <td>0.503885</td>\n",
              "      <td>0.551374</td>\n",
              "      <td>0.168778</td>\n",
              "    </tr>\n",
              "    <tr>\n",
              "      <th>2</th>\n",
              "      <td>0.590269</td>\n",
              "      <td>0.219901</td>\n",
              "      <td>0.035778</td>\n",
              "      <td>0.132628</td>\n",
              "      <td>0.307534</td>\n",
              "    </tr>\n",
              "    <tr>\n",
              "      <th>3</th>\n",
              "      <td>0.897047</td>\n",
              "      <td>0.736057</td>\n",
              "      <td>0.526577</td>\n",
              "      <td>0.284122</td>\n",
              "      <td>0.897792</td>\n",
              "    </tr>\n",
              "    <tr>\n",
              "      <th>4</th>\n",
              "      <td>0.577552</td>\n",
              "      <td>0.280542</td>\n",
              "      <td>0.299609</td>\n",
              "      <td>0.582474</td>\n",
              "      <td>0.486116</td>\n",
              "    </tr>\n",
              "    <tr>\n",
              "      <th>...</th>\n",
              "      <td>...</td>\n",
              "      <td>...</td>\n",
              "      <td>...</td>\n",
              "      <td>...</td>\n",
              "      <td>...</td>\n",
              "    </tr>\n",
              "    <tr>\n",
              "      <th>329</th>\n",
              "      <td>0.693268</td>\n",
              "      <td>0.655266</td>\n",
              "      <td>0.925603</td>\n",
              "      <td>0.344342</td>\n",
              "      <td>0.916829</td>\n",
              "    </tr>\n",
              "    <tr>\n",
              "      <th>330</th>\n",
              "      <td>0.327396</td>\n",
              "      <td>0.988923</td>\n",
              "      <td>0.753816</td>\n",
              "      <td>0.459164</td>\n",
              "      <td>0.659026</td>\n",
              "    </tr>\n",
              "    <tr>\n",
              "      <th>331</th>\n",
              "      <td>0.168851</td>\n",
              "      <td>0.036422</td>\n",
              "      <td>0.206303</td>\n",
              "      <td>0.943109</td>\n",
              "      <td>0.903738</td>\n",
              "    </tr>\n",
              "    <tr>\n",
              "      <th>332</th>\n",
              "      <td>0.634337</td>\n",
              "      <td>0.694116</td>\n",
              "      <td>0.375777</td>\n",
              "      <td>0.585995</td>\n",
              "      <td>0.021510</td>\n",
              "    </tr>\n",
              "    <tr>\n",
              "      <th>333</th>\n",
              "      <td>0.451478</td>\n",
              "      <td>0.258113</td>\n",
              "      <td>0.273603</td>\n",
              "      <td>0.111352</td>\n",
              "      <td>0.277035</td>\n",
              "    </tr>\n",
              "  </tbody>\n",
              "</table>\n",
              "<p>334 rows × 5 columns</p>\n",
              "</div>"
            ],
            "text/plain": [
              "            0         1         2         3         4\n",
              "0        9783  0.037755  0.216857  0.831418  0.524184\n",
              "1    0.712657  0.408719  0.503885  0.551374  0.168778\n",
              "2    0.590269  0.219901  0.035778  0.132628  0.307534\n",
              "3    0.897047  0.736057  0.526577  0.284122  0.897792\n",
              "4    0.577552  0.280542  0.299609  0.582474  0.486116\n",
              "..        ...       ...       ...       ...       ...\n",
              "329  0.693268  0.655266  0.925603  0.344342  0.916829\n",
              "330  0.327396  0.988923  0.753816  0.459164  0.659026\n",
              "331  0.168851  0.036422  0.206303  0.943109  0.903738\n",
              "332  0.634337  0.694116  0.375777  0.585995  0.021510\n",
              "333  0.451478  0.258113  0.273603  0.111352  0.277035\n",
              "\n",
              "[334 rows x 5 columns]"
            ]
          },
          "metadata": {
            "tags": []
          },
          "execution_count": 50
        }
      ]
    },
    {
      "cell_type": "markdown",
      "metadata": {
        "id": "bPOXmxrM3ZNW",
        "colab_type": "text"
      },
      "source": [
        "to make *copy*, here we are making copy of newdf to newdf3"
      ]
    },
    {
      "cell_type": "code",
      "metadata": {
        "id": "ub4UYXVv3QTS",
        "colab_type": "code",
        "colab": {}
      },
      "source": [
        "newdf3=newdf.copy()"
      ],
      "execution_count": 0,
      "outputs": []
    },
    {
      "cell_type": "code",
      "metadata": {
        "id": "XaIwb9BA3VTl",
        "colab_type": "code",
        "colab": {
          "base_uri": "https://localhost:8080/",
          "height": 419
        },
        "outputId": "e33b99c4-71c2-45a0-8027-872f12df38b9"
      },
      "source": [
        "newdf3"
      ],
      "execution_count": 54,
      "outputs": [
        {
          "output_type": "execute_result",
          "data": {
            "text/html": [
              "<div>\n",
              "<style scoped>\n",
              "    .dataframe tbody tr th:only-of-type {\n",
              "        vertical-align: middle;\n",
              "    }\n",
              "\n",
              "    .dataframe tbody tr th {\n",
              "        vertical-align: top;\n",
              "    }\n",
              "\n",
              "    .dataframe thead th {\n",
              "        text-align: right;\n",
              "    }\n",
              "</style>\n",
              "<table border=\"1\" class=\"dataframe\">\n",
              "  <thead>\n",
              "    <tr style=\"text-align: right;\">\n",
              "      <th></th>\n",
              "      <th>0</th>\n",
              "      <th>1</th>\n",
              "      <th>2</th>\n",
              "      <th>3</th>\n",
              "      <th>4</th>\n",
              "    </tr>\n",
              "  </thead>\n",
              "  <tbody>\n",
              "    <tr>\n",
              "      <th>0</th>\n",
              "      <td>9783</td>\n",
              "      <td>0.037755</td>\n",
              "      <td>0.216857</td>\n",
              "      <td>0.831418</td>\n",
              "      <td>0.524184</td>\n",
              "    </tr>\n",
              "    <tr>\n",
              "      <th>1</th>\n",
              "      <td>0.712657</td>\n",
              "      <td>0.408719</td>\n",
              "      <td>0.503885</td>\n",
              "      <td>0.551374</td>\n",
              "      <td>0.168778</td>\n",
              "    </tr>\n",
              "    <tr>\n",
              "      <th>2</th>\n",
              "      <td>0.590269</td>\n",
              "      <td>0.219901</td>\n",
              "      <td>0.035778</td>\n",
              "      <td>0.132628</td>\n",
              "      <td>0.307534</td>\n",
              "    </tr>\n",
              "    <tr>\n",
              "      <th>3</th>\n",
              "      <td>0.897047</td>\n",
              "      <td>0.736057</td>\n",
              "      <td>0.526577</td>\n",
              "      <td>0.284122</td>\n",
              "      <td>0.897792</td>\n",
              "    </tr>\n",
              "    <tr>\n",
              "      <th>4</th>\n",
              "      <td>0.577552</td>\n",
              "      <td>0.280542</td>\n",
              "      <td>0.299609</td>\n",
              "      <td>0.582474</td>\n",
              "      <td>0.486116</td>\n",
              "    </tr>\n",
              "    <tr>\n",
              "      <th>...</th>\n",
              "      <td>...</td>\n",
              "      <td>...</td>\n",
              "      <td>...</td>\n",
              "      <td>...</td>\n",
              "      <td>...</td>\n",
              "    </tr>\n",
              "    <tr>\n",
              "      <th>329</th>\n",
              "      <td>0.693268</td>\n",
              "      <td>0.655266</td>\n",
              "      <td>0.925603</td>\n",
              "      <td>0.344342</td>\n",
              "      <td>0.916829</td>\n",
              "    </tr>\n",
              "    <tr>\n",
              "      <th>330</th>\n",
              "      <td>0.327396</td>\n",
              "      <td>0.988923</td>\n",
              "      <td>0.753816</td>\n",
              "      <td>0.459164</td>\n",
              "      <td>0.659026</td>\n",
              "    </tr>\n",
              "    <tr>\n",
              "      <th>331</th>\n",
              "      <td>0.168851</td>\n",
              "      <td>0.036422</td>\n",
              "      <td>0.206303</td>\n",
              "      <td>0.943109</td>\n",
              "      <td>0.903738</td>\n",
              "    </tr>\n",
              "    <tr>\n",
              "      <th>332</th>\n",
              "      <td>0.634337</td>\n",
              "      <td>0.694116</td>\n",
              "      <td>0.375777</td>\n",
              "      <td>0.585995</td>\n",
              "      <td>0.021510</td>\n",
              "    </tr>\n",
              "    <tr>\n",
              "      <th>333</th>\n",
              "      <td>0.451478</td>\n",
              "      <td>0.258113</td>\n",
              "      <td>0.273603</td>\n",
              "      <td>0.111352</td>\n",
              "      <td>0.277035</td>\n",
              "    </tr>\n",
              "  </tbody>\n",
              "</table>\n",
              "<p>334 rows × 5 columns</p>\n",
              "</div>"
            ],
            "text/plain": [
              "            0         1         2         3         4\n",
              "0        9783  0.037755  0.216857  0.831418  0.524184\n",
              "1    0.712657  0.408719  0.503885  0.551374  0.168778\n",
              "2    0.590269  0.219901  0.035778  0.132628  0.307534\n",
              "3    0.897047  0.736057  0.526577  0.284122  0.897792\n",
              "4    0.577552  0.280542  0.299609  0.582474  0.486116\n",
              "..        ...       ...       ...       ...       ...\n",
              "329  0.693268  0.655266  0.925603  0.344342  0.916829\n",
              "330  0.327396  0.988923  0.753816  0.459164  0.659026\n",
              "331  0.168851  0.036422  0.206303  0.943109  0.903738\n",
              "332  0.634337  0.694116  0.375777  0.585995  0.021510\n",
              "333  0.451478  0.258113  0.273603  0.111352  0.277035\n",
              "\n",
              "[334 rows x 5 columns]"
            ]
          },
          "metadata": {
            "tags": []
          },
          "execution_count": 54
        }
      ]
    },
    {
      "cell_type": "markdown",
      "metadata": {
        "id": "ZJ9S_PY23-Uu",
        "colab_type": "text"
      },
      "source": [
        "# loc\n",
        "so the warnings we have encountered in above cells when wwe were changing the values in array, so we will use **loc** function to change the value in the array"
      ]
    },
    {
      "cell_type": "code",
      "metadata": {
        "id": "BDYcI4wh3zhK",
        "colab_type": "code",
        "colab": {}
      },
      "source": [
        "newdf.loc[0,0] = 654"
      ],
      "execution_count": 0,
      "outputs": []
    },
    {
      "cell_type": "code",
      "metadata": {
        "id": "oRO4ALVN35sq",
        "colab_type": "code",
        "colab": {
          "base_uri": "https://localhost:8080/",
          "height": 111
        },
        "outputId": "5da2b27e-eb94-4c4f-f885-52238c95c1b3"
      },
      "source": [
        "newdf.head(2)"
      ],
      "execution_count": 56,
      "outputs": [
        {
          "output_type": "execute_result",
          "data": {
            "text/html": [
              "<div>\n",
              "<style scoped>\n",
              "    .dataframe tbody tr th:only-of-type {\n",
              "        vertical-align: middle;\n",
              "    }\n",
              "\n",
              "    .dataframe tbody tr th {\n",
              "        vertical-align: top;\n",
              "    }\n",
              "\n",
              "    .dataframe thead th {\n",
              "        text-align: right;\n",
              "    }\n",
              "</style>\n",
              "<table border=\"1\" class=\"dataframe\">\n",
              "  <thead>\n",
              "    <tr style=\"text-align: right;\">\n",
              "      <th></th>\n",
              "      <th>0</th>\n",
              "      <th>1</th>\n",
              "      <th>2</th>\n",
              "      <th>3</th>\n",
              "      <th>4</th>\n",
              "    </tr>\n",
              "  </thead>\n",
              "  <tbody>\n",
              "    <tr>\n",
              "      <th>0</th>\n",
              "      <td>654</td>\n",
              "      <td>0.037755</td>\n",
              "      <td>0.216857</td>\n",
              "      <td>0.831418</td>\n",
              "      <td>0.524184</td>\n",
              "    </tr>\n",
              "    <tr>\n",
              "      <th>1</th>\n",
              "      <td>0.712657</td>\n",
              "      <td>0.408719</td>\n",
              "      <td>0.503885</td>\n",
              "      <td>0.551374</td>\n",
              "      <td>0.168778</td>\n",
              "    </tr>\n",
              "  </tbody>\n",
              "</table>\n",
              "</div>"
            ],
            "text/plain": [
              "          0         1         2         3         4\n",
              "0       654  0.037755  0.216857  0.831418  0.524184\n",
              "1  0.712657  0.408719  0.503885  0.551374  0.168778"
            ]
          },
          "metadata": {
            "tags": []
          },
          "execution_count": 56
        }
      ]
    },
    {
      "cell_type": "code",
      "metadata": {
        "id": "0wse-PAR5Ke_",
        "colab_type": "code",
        "colab": {}
      },
      "source": [
        "newdf.columns=list(\"ABCDE\")"
      ],
      "execution_count": 0,
      "outputs": []
    },
    {
      "cell_type": "code",
      "metadata": {
        "id": "z5xld-Kt5PWL",
        "colab_type": "code",
        "colab": {
          "base_uri": "https://localhost:8080/",
          "height": 111
        },
        "outputId": "b28aa682-ef56-4b7f-a852-5da195b8d92f"
      },
      "source": [
        "newdf.head(2)"
      ],
      "execution_count": 60,
      "outputs": [
        {
          "output_type": "execute_result",
          "data": {
            "text/html": [
              "<div>\n",
              "<style scoped>\n",
              "    .dataframe tbody tr th:only-of-type {\n",
              "        vertical-align: middle;\n",
              "    }\n",
              "\n",
              "    .dataframe tbody tr th {\n",
              "        vertical-align: top;\n",
              "    }\n",
              "\n",
              "    .dataframe thead th {\n",
              "        text-align: right;\n",
              "    }\n",
              "</style>\n",
              "<table border=\"1\" class=\"dataframe\">\n",
              "  <thead>\n",
              "    <tr style=\"text-align: right;\">\n",
              "      <th></th>\n",
              "      <th>A</th>\n",
              "      <th>B</th>\n",
              "      <th>C</th>\n",
              "      <th>D</th>\n",
              "      <th>E</th>\n",
              "    </tr>\n",
              "  </thead>\n",
              "  <tbody>\n",
              "    <tr>\n",
              "      <th>0</th>\n",
              "      <td>654</td>\n",
              "      <td>0.037755</td>\n",
              "      <td>0.216857</td>\n",
              "      <td>0.831418</td>\n",
              "      <td>0.524184</td>\n",
              "    </tr>\n",
              "    <tr>\n",
              "      <th>1</th>\n",
              "      <td>0.712657</td>\n",
              "      <td>0.408719</td>\n",
              "      <td>0.503885</td>\n",
              "      <td>0.551374</td>\n",
              "      <td>0.168778</td>\n",
              "    </tr>\n",
              "  </tbody>\n",
              "</table>\n",
              "</div>"
            ],
            "text/plain": [
              "          A         B         C         D         E\n",
              "0       654  0.037755  0.216857  0.831418  0.524184\n",
              "1  0.712657  0.408719  0.503885  0.551374  0.168778"
            ]
          },
          "metadata": {
            "tags": []
          },
          "execution_count": 60
        }
      ]
    },
    {
      "cell_type": "code",
      "metadata": {
        "id": "gSUvDjIG5XIc",
        "colab_type": "code",
        "colab": {}
      },
      "source": [
        "newdf.loc[0,'A']= 677768"
      ],
      "execution_count": 0,
      "outputs": []
    },
    {
      "cell_type": "code",
      "metadata": {
        "id": "RATAvAWY5nt_",
        "colab_type": "code",
        "colab": {
          "base_uri": "https://localhost:8080/",
          "height": 111
        },
        "outputId": "ccac482c-d94f-471c-c4cb-3917e72b4e80"
      },
      "source": [
        "newdf.head(2)"
      ],
      "execution_count": 63,
      "outputs": [
        {
          "output_type": "execute_result",
          "data": {
            "text/html": [
              "<div>\n",
              "<style scoped>\n",
              "    .dataframe tbody tr th:only-of-type {\n",
              "        vertical-align: middle;\n",
              "    }\n",
              "\n",
              "    .dataframe tbody tr th {\n",
              "        vertical-align: top;\n",
              "    }\n",
              "\n",
              "    .dataframe thead th {\n",
              "        text-align: right;\n",
              "    }\n",
              "</style>\n",
              "<table border=\"1\" class=\"dataframe\">\n",
              "  <thead>\n",
              "    <tr style=\"text-align: right;\">\n",
              "      <th></th>\n",
              "      <th>A</th>\n",
              "      <th>B</th>\n",
              "      <th>C</th>\n",
              "      <th>D</th>\n",
              "      <th>E</th>\n",
              "    </tr>\n",
              "  </thead>\n",
              "  <tbody>\n",
              "    <tr>\n",
              "      <th>0</th>\n",
              "      <td>677768</td>\n",
              "      <td>0.037755</td>\n",
              "      <td>0.216857</td>\n",
              "      <td>0.831418</td>\n",
              "      <td>0.524184</td>\n",
              "    </tr>\n",
              "    <tr>\n",
              "      <th>1</th>\n",
              "      <td>0.712657</td>\n",
              "      <td>0.408719</td>\n",
              "      <td>0.503885</td>\n",
              "      <td>0.551374</td>\n",
              "      <td>0.168778</td>\n",
              "    </tr>\n",
              "  </tbody>\n",
              "</table>\n",
              "</div>"
            ],
            "text/plain": [
              "          A         B         C         D         E\n",
              "0    677768  0.037755  0.216857  0.831418  0.524184\n",
              "1  0.712657  0.408719  0.503885  0.551374  0.168778"
            ]
          },
          "metadata": {
            "tags": []
          },
          "execution_count": 63
        }
      ]
    },
    {
      "cell_type": "markdown",
      "metadata": {
        "id": "u-tLljYm6Bd-",
        "colab_type": "text"
      },
      "source": [
        "drop will remove a column or row based on indexing."
      ]
    },
    {
      "cell_type": "code",
      "metadata": {
        "id": "v2zotB_75rre",
        "colab_type": "code",
        "colab": {
          "base_uri": "https://localhost:8080/",
          "height": 419
        },
        "outputId": "2f69f0ea-3a8d-48ad-a211-b64c98a23912"
      },
      "source": [
        "newdf.drop(0, axis=0)"
      ],
      "execution_count": 67,
      "outputs": [
        {
          "output_type": "execute_result",
          "data": {
            "text/html": [
              "<div>\n",
              "<style scoped>\n",
              "    .dataframe tbody tr th:only-of-type {\n",
              "        vertical-align: middle;\n",
              "    }\n",
              "\n",
              "    .dataframe tbody tr th {\n",
              "        vertical-align: top;\n",
              "    }\n",
              "\n",
              "    .dataframe thead th {\n",
              "        text-align: right;\n",
              "    }\n",
              "</style>\n",
              "<table border=\"1\" class=\"dataframe\">\n",
              "  <thead>\n",
              "    <tr style=\"text-align: right;\">\n",
              "      <th></th>\n",
              "      <th>A</th>\n",
              "      <th>B</th>\n",
              "      <th>C</th>\n",
              "      <th>D</th>\n",
              "      <th>E</th>\n",
              "    </tr>\n",
              "  </thead>\n",
              "  <tbody>\n",
              "    <tr>\n",
              "      <th>1</th>\n",
              "      <td>0.712657</td>\n",
              "      <td>0.408719</td>\n",
              "      <td>0.503885</td>\n",
              "      <td>0.551374</td>\n",
              "      <td>0.168778</td>\n",
              "    </tr>\n",
              "    <tr>\n",
              "      <th>2</th>\n",
              "      <td>0.590269</td>\n",
              "      <td>0.219901</td>\n",
              "      <td>0.035778</td>\n",
              "      <td>0.132628</td>\n",
              "      <td>0.307534</td>\n",
              "    </tr>\n",
              "    <tr>\n",
              "      <th>3</th>\n",
              "      <td>0.897047</td>\n",
              "      <td>0.736057</td>\n",
              "      <td>0.526577</td>\n",
              "      <td>0.284122</td>\n",
              "      <td>0.897792</td>\n",
              "    </tr>\n",
              "    <tr>\n",
              "      <th>4</th>\n",
              "      <td>0.577552</td>\n",
              "      <td>0.280542</td>\n",
              "      <td>0.299609</td>\n",
              "      <td>0.582474</td>\n",
              "      <td>0.486116</td>\n",
              "    </tr>\n",
              "    <tr>\n",
              "      <th>5</th>\n",
              "      <td>0.367013</td>\n",
              "      <td>0.124402</td>\n",
              "      <td>0.086717</td>\n",
              "      <td>0.263900</td>\n",
              "      <td>0.246594</td>\n",
              "    </tr>\n",
              "    <tr>\n",
              "      <th>...</th>\n",
              "      <td>...</td>\n",
              "      <td>...</td>\n",
              "      <td>...</td>\n",
              "      <td>...</td>\n",
              "      <td>...</td>\n",
              "    </tr>\n",
              "    <tr>\n",
              "      <th>329</th>\n",
              "      <td>0.693268</td>\n",
              "      <td>0.655266</td>\n",
              "      <td>0.925603</td>\n",
              "      <td>0.344342</td>\n",
              "      <td>0.916829</td>\n",
              "    </tr>\n",
              "    <tr>\n",
              "      <th>330</th>\n",
              "      <td>0.327396</td>\n",
              "      <td>0.988923</td>\n",
              "      <td>0.753816</td>\n",
              "      <td>0.459164</td>\n",
              "      <td>0.659026</td>\n",
              "    </tr>\n",
              "    <tr>\n",
              "      <th>331</th>\n",
              "      <td>0.168851</td>\n",
              "      <td>0.036422</td>\n",
              "      <td>0.206303</td>\n",
              "      <td>0.943109</td>\n",
              "      <td>0.903738</td>\n",
              "    </tr>\n",
              "    <tr>\n",
              "      <th>332</th>\n",
              "      <td>0.634337</td>\n",
              "      <td>0.694116</td>\n",
              "      <td>0.375777</td>\n",
              "      <td>0.585995</td>\n",
              "      <td>0.021510</td>\n",
              "    </tr>\n",
              "    <tr>\n",
              "      <th>333</th>\n",
              "      <td>0.451478</td>\n",
              "      <td>0.258113</td>\n",
              "      <td>0.273603</td>\n",
              "      <td>0.111352</td>\n",
              "      <td>0.277035</td>\n",
              "    </tr>\n",
              "  </tbody>\n",
              "</table>\n",
              "<p>333 rows × 5 columns</p>\n",
              "</div>"
            ],
            "text/plain": [
              "            A         B         C         D         E\n",
              "1    0.712657  0.408719  0.503885  0.551374  0.168778\n",
              "2    0.590269  0.219901  0.035778  0.132628  0.307534\n",
              "3    0.897047  0.736057  0.526577  0.284122  0.897792\n",
              "4    0.577552  0.280542  0.299609  0.582474  0.486116\n",
              "5    0.367013  0.124402  0.086717  0.263900  0.246594\n",
              "..        ...       ...       ...       ...       ...\n",
              "329  0.693268  0.655266  0.925603  0.344342  0.916829\n",
              "330  0.327396  0.988923  0.753816  0.459164  0.659026\n",
              "331  0.168851  0.036422  0.206303  0.943109  0.903738\n",
              "332  0.634337  0.694116  0.375777  0.585995  0.021510\n",
              "333  0.451478  0.258113  0.273603  0.111352  0.277035\n",
              "\n",
              "[333 rows x 5 columns]"
            ]
          },
          "metadata": {
            "tags": []
          },
          "execution_count": 67
        }
      ]
    },
    {
      "cell_type": "markdown",
      "metadata": {
        "id": "bnu9iMeE7F2r",
        "colab_type": "text"
      },
      "source": [
        "to get data under a range"
      ]
    },
    {
      "cell_type": "code",
      "metadata": {
        "id": "qU9KKNCz65Uv",
        "colab_type": "code",
        "colab": {
          "base_uri": "https://localhost:8080/",
          "height": 111
        },
        "outputId": "2c6b2592-61ee-494b-88ad-58e6bfea883f"
      },
      "source": [
        "newdf.loc[[1,2],['C','D']]"
      ],
      "execution_count": 74,
      "outputs": [
        {
          "output_type": "execute_result",
          "data": {
            "text/html": [
              "<div>\n",
              "<style scoped>\n",
              "    .dataframe tbody tr th:only-of-type {\n",
              "        vertical-align: middle;\n",
              "    }\n",
              "\n",
              "    .dataframe tbody tr th {\n",
              "        vertical-align: top;\n",
              "    }\n",
              "\n",
              "    .dataframe thead th {\n",
              "        text-align: right;\n",
              "    }\n",
              "</style>\n",
              "<table border=\"1\" class=\"dataframe\">\n",
              "  <thead>\n",
              "    <tr style=\"text-align: right;\">\n",
              "      <th></th>\n",
              "      <th>C</th>\n",
              "      <th>D</th>\n",
              "    </tr>\n",
              "  </thead>\n",
              "  <tbody>\n",
              "    <tr>\n",
              "      <th>1</th>\n",
              "      <td>0.503885</td>\n",
              "      <td>0.551374</td>\n",
              "    </tr>\n",
              "    <tr>\n",
              "      <th>2</th>\n",
              "      <td>0.035778</td>\n",
              "      <td>0.132628</td>\n",
              "    </tr>\n",
              "  </tbody>\n",
              "</table>\n",
              "</div>"
            ],
            "text/plain": [
              "          C         D\n",
              "1  0.503885  0.551374\n",
              "2  0.035778  0.132628"
            ]
          },
          "metadata": {
            "tags": []
          },
          "execution_count": 74
        }
      ]
    },
    {
      "cell_type": "code",
      "metadata": {
        "id": "REQgcDFq7KZ6",
        "colab_type": "code",
        "colab": {
          "base_uri": "https://localhost:8080/",
          "height": 419
        },
        "outputId": "2dd94a58-0029-46db-ab03-50602b844d48"
      },
      "source": [
        "newdf.loc[(newdf['A']<0.3) & (newdf['C']>0.1)]"
      ],
      "execution_count": 78,
      "outputs": [
        {
          "output_type": "execute_result",
          "data": {
            "text/html": [
              "<div>\n",
              "<style scoped>\n",
              "    .dataframe tbody tr th:only-of-type {\n",
              "        vertical-align: middle;\n",
              "    }\n",
              "\n",
              "    .dataframe tbody tr th {\n",
              "        vertical-align: top;\n",
              "    }\n",
              "\n",
              "    .dataframe thead th {\n",
              "        text-align: right;\n",
              "    }\n",
              "</style>\n",
              "<table border=\"1\" class=\"dataframe\">\n",
              "  <thead>\n",
              "    <tr style=\"text-align: right;\">\n",
              "      <th></th>\n",
              "      <th>A</th>\n",
              "      <th>B</th>\n",
              "      <th>C</th>\n",
              "      <th>D</th>\n",
              "      <th>E</th>\n",
              "    </tr>\n",
              "  </thead>\n",
              "  <tbody>\n",
              "    <tr>\n",
              "      <th>8</th>\n",
              "      <td>0.0974926</td>\n",
              "      <td>0.331673</td>\n",
              "      <td>0.585584</td>\n",
              "      <td>0.486300</td>\n",
              "      <td>0.730895</td>\n",
              "    </tr>\n",
              "    <tr>\n",
              "      <th>9</th>\n",
              "      <td>0.255862</td>\n",
              "      <td>0.317826</td>\n",
              "      <td>0.825970</td>\n",
              "      <td>0.429272</td>\n",
              "      <td>0.493029</td>\n",
              "    </tr>\n",
              "    <tr>\n",
              "      <th>10</th>\n",
              "      <td>0.104914</td>\n",
              "      <td>0.115297</td>\n",
              "      <td>0.356209</td>\n",
              "      <td>0.650954</td>\n",
              "      <td>0.992034</td>\n",
              "    </tr>\n",
              "    <tr>\n",
              "      <th>14</th>\n",
              "      <td>0.127973</td>\n",
              "      <td>0.493188</td>\n",
              "      <td>0.392952</td>\n",
              "      <td>0.026381</td>\n",
              "      <td>0.899203</td>\n",
              "    </tr>\n",
              "    <tr>\n",
              "      <th>15</th>\n",
              "      <td>0.018846</td>\n",
              "      <td>0.845132</td>\n",
              "      <td>0.302895</td>\n",
              "      <td>0.800433</td>\n",
              "      <td>0.563168</td>\n",
              "    </tr>\n",
              "    <tr>\n",
              "      <th>...</th>\n",
              "      <td>...</td>\n",
              "      <td>...</td>\n",
              "      <td>...</td>\n",
              "      <td>...</td>\n",
              "      <td>...</td>\n",
              "    </tr>\n",
              "    <tr>\n",
              "      <th>304</th>\n",
              "      <td>0.134718</td>\n",
              "      <td>0.262914</td>\n",
              "      <td>0.995298</td>\n",
              "      <td>0.485203</td>\n",
              "      <td>0.396636</td>\n",
              "    </tr>\n",
              "    <tr>\n",
              "      <th>305</th>\n",
              "      <td>0.145598</td>\n",
              "      <td>0.085156</td>\n",
              "      <td>0.974584</td>\n",
              "      <td>0.340146</td>\n",
              "      <td>0.580385</td>\n",
              "    </tr>\n",
              "    <tr>\n",
              "      <th>310</th>\n",
              "      <td>0.081317</td>\n",
              "      <td>0.523377</td>\n",
              "      <td>0.649640</td>\n",
              "      <td>0.352587</td>\n",
              "      <td>0.416567</td>\n",
              "    </tr>\n",
              "    <tr>\n",
              "      <th>314</th>\n",
              "      <td>0.0987843</td>\n",
              "      <td>0.776734</td>\n",
              "      <td>0.224760</td>\n",
              "      <td>0.961773</td>\n",
              "      <td>0.369623</td>\n",
              "    </tr>\n",
              "    <tr>\n",
              "      <th>331</th>\n",
              "      <td>0.168851</td>\n",
              "      <td>0.036422</td>\n",
              "      <td>0.206303</td>\n",
              "      <td>0.943109</td>\n",
              "      <td>0.903738</td>\n",
              "    </tr>\n",
              "  </tbody>\n",
              "</table>\n",
              "<p>95 rows × 5 columns</p>\n",
              "</div>"
            ],
            "text/plain": [
              "             A         B         C         D         E\n",
              "8    0.0974926  0.331673  0.585584  0.486300  0.730895\n",
              "9     0.255862  0.317826  0.825970  0.429272  0.493029\n",
              "10    0.104914  0.115297  0.356209  0.650954  0.992034\n",
              "14    0.127973  0.493188  0.392952  0.026381  0.899203\n",
              "15    0.018846  0.845132  0.302895  0.800433  0.563168\n",
              "..         ...       ...       ...       ...       ...\n",
              "304   0.134718  0.262914  0.995298  0.485203  0.396636\n",
              "305   0.145598  0.085156  0.974584  0.340146  0.580385\n",
              "310   0.081317  0.523377  0.649640  0.352587  0.416567\n",
              "314  0.0987843  0.776734  0.224760  0.961773  0.369623\n",
              "331   0.168851  0.036422  0.206303  0.943109  0.903738\n",
              "\n",
              "[95 rows x 5 columns]"
            ]
          },
          "metadata": {
            "tags": []
          },
          "execution_count": 78
        }
      ]
    },
    {
      "cell_type": "code",
      "metadata": {
        "id": "m29ziQNY8dt8",
        "colab_type": "code",
        "colab": {
          "base_uri": "https://localhost:8080/",
          "height": 111
        },
        "outputId": "edd2abe4-3c71-4061-a732-3549d181ae0b"
      },
      "source": [
        "newdf.head(2)"
      ],
      "execution_count": 79,
      "outputs": [
        {
          "output_type": "execute_result",
          "data": {
            "text/html": [
              "<div>\n",
              "<style scoped>\n",
              "    .dataframe tbody tr th:only-of-type {\n",
              "        vertical-align: middle;\n",
              "    }\n",
              "\n",
              "    .dataframe tbody tr th {\n",
              "        vertical-align: top;\n",
              "    }\n",
              "\n",
              "    .dataframe thead th {\n",
              "        text-align: right;\n",
              "    }\n",
              "</style>\n",
              "<table border=\"1\" class=\"dataframe\">\n",
              "  <thead>\n",
              "    <tr style=\"text-align: right;\">\n",
              "      <th></th>\n",
              "      <th>A</th>\n",
              "      <th>B</th>\n",
              "      <th>C</th>\n",
              "      <th>D</th>\n",
              "      <th>E</th>\n",
              "    </tr>\n",
              "  </thead>\n",
              "  <tbody>\n",
              "    <tr>\n",
              "      <th>0</th>\n",
              "      <td>677768</td>\n",
              "      <td>0.037755</td>\n",
              "      <td>0.216857</td>\n",
              "      <td>0.831418</td>\n",
              "      <td>0.524184</td>\n",
              "    </tr>\n",
              "    <tr>\n",
              "      <th>1</th>\n",
              "      <td>0.712657</td>\n",
              "      <td>0.408719</td>\n",
              "      <td>0.503885</td>\n",
              "      <td>0.551374</td>\n",
              "      <td>0.168778</td>\n",
              "    </tr>\n",
              "  </tbody>\n",
              "</table>\n",
              "</div>"
            ],
            "text/plain": [
              "          A         B         C         D         E\n",
              "0    677768  0.037755  0.216857  0.831418  0.524184\n",
              "1  0.712657  0.408719  0.503885  0.551374  0.168778"
            ]
          },
          "metadata": {
            "tags": []
          },
          "execution_count": 79
        }
      ]
    },
    {
      "cell_type": "markdown",
      "metadata": {
        "id": "j7I8v4vU9Lwq",
        "colab_type": "text"
      },
      "source": [
        "# iloc\n",
        "it will count from 0-4 to then it will give the value, whereas in loc we have to give the same name of the index."
      ]
    },
    {
      "cell_type": "code",
      "metadata": {
        "id": "VAuSOeSl8-92",
        "colab_type": "code",
        "colab": {
          "base_uri": "https://localhost:8080/",
          "height": 34
        },
        "outputId": "fbdffbe7-fc4c-48cc-a68a-fdf8d7844698"
      },
      "source": [
        "newdf.iloc[0,4]"
      ],
      "execution_count": 80,
      "outputs": [
        {
          "output_type": "execute_result",
          "data": {
            "text/plain": [
              "0.5241842814390095"
            ]
          },
          "metadata": {
            "tags": []
          },
          "execution_count": 80
        }
      ]
    },
    {
      "cell_type": "code",
      "metadata": {
        "id": "amtEHTZJ9o-L",
        "colab_type": "code",
        "colab": {
          "base_uri": "https://localhost:8080/",
          "height": 111
        },
        "outputId": "333ad762-98a1-435c-aab9-c6ee6087b401"
      },
      "source": [
        "newdf.iloc[[0,1],[1,2]]"
      ],
      "execution_count": 81,
      "outputs": [
        {
          "output_type": "execute_result",
          "data": {
            "text/html": [
              "<div>\n",
              "<style scoped>\n",
              "    .dataframe tbody tr th:only-of-type {\n",
              "        vertical-align: middle;\n",
              "    }\n",
              "\n",
              "    .dataframe tbody tr th {\n",
              "        vertical-align: top;\n",
              "    }\n",
              "\n",
              "    .dataframe thead th {\n",
              "        text-align: right;\n",
              "    }\n",
              "</style>\n",
              "<table border=\"1\" class=\"dataframe\">\n",
              "  <thead>\n",
              "    <tr style=\"text-align: right;\">\n",
              "      <th></th>\n",
              "      <th>B</th>\n",
              "      <th>C</th>\n",
              "    </tr>\n",
              "  </thead>\n",
              "  <tbody>\n",
              "    <tr>\n",
              "      <th>0</th>\n",
              "      <td>0.037755</td>\n",
              "      <td>0.216857</td>\n",
              "    </tr>\n",
              "    <tr>\n",
              "      <th>1</th>\n",
              "      <td>0.408719</td>\n",
              "      <td>0.503885</td>\n",
              "    </tr>\n",
              "  </tbody>\n",
              "</table>\n",
              "</div>"
            ],
            "text/plain": [
              "          B         C\n",
              "0  0.037755  0.216857\n",
              "1  0.408719  0.503885"
            ]
          },
          "metadata": {
            "tags": []
          },
          "execution_count": 81
        }
      ]
    },
    {
      "cell_type": "code",
      "metadata": {
        "id": "_Pkn329t9y2a",
        "colab_type": "code",
        "colab": {
          "base_uri": "https://localhost:8080/",
          "height": 142
        },
        "outputId": "22509170-157a-4bfd-f589-28ee8598bf63"
      },
      "source": [
        "newdf.head(3)"
      ],
      "execution_count": 83,
      "outputs": [
        {
          "output_type": "execute_result",
          "data": {
            "text/html": [
              "<div>\n",
              "<style scoped>\n",
              "    .dataframe tbody tr th:only-of-type {\n",
              "        vertical-align: middle;\n",
              "    }\n",
              "\n",
              "    .dataframe tbody tr th {\n",
              "        vertical-align: top;\n",
              "    }\n",
              "\n",
              "    .dataframe thead th {\n",
              "        text-align: right;\n",
              "    }\n",
              "</style>\n",
              "<table border=\"1\" class=\"dataframe\">\n",
              "  <thead>\n",
              "    <tr style=\"text-align: right;\">\n",
              "      <th></th>\n",
              "      <th>A</th>\n",
              "      <th>B</th>\n",
              "      <th>C</th>\n",
              "      <th>D</th>\n",
              "      <th>E</th>\n",
              "    </tr>\n",
              "  </thead>\n",
              "  <tbody>\n",
              "    <tr>\n",
              "      <th>0</th>\n",
              "      <td>677768</td>\n",
              "      <td>0.037755</td>\n",
              "      <td>0.216857</td>\n",
              "      <td>0.831418</td>\n",
              "      <td>0.524184</td>\n",
              "    </tr>\n",
              "    <tr>\n",
              "      <th>1</th>\n",
              "      <td>0.712657</td>\n",
              "      <td>0.408719</td>\n",
              "      <td>0.503885</td>\n",
              "      <td>0.551374</td>\n",
              "      <td>0.168778</td>\n",
              "    </tr>\n",
              "    <tr>\n",
              "      <th>2</th>\n",
              "      <td>0.590269</td>\n",
              "      <td>0.219901</td>\n",
              "      <td>0.035778</td>\n",
              "      <td>0.132628</td>\n",
              "      <td>0.307534</td>\n",
              "    </tr>\n",
              "  </tbody>\n",
              "</table>\n",
              "</div>"
            ],
            "text/plain": [
              "          A         B         C         D         E\n",
              "0    677768  0.037755  0.216857  0.831418  0.524184\n",
              "1  0.712657  0.408719  0.503885  0.551374  0.168778\n",
              "2  0.590269  0.219901  0.035778  0.132628  0.307534"
            ]
          },
          "metadata": {
            "tags": []
          },
          "execution_count": 83
        }
      ]
    },
    {
      "cell_type": "markdown",
      "metadata": {
        "id": "v7X_oTs--DCA",
        "colab_type": "text"
      },
      "source": [
        "will drop row 1,5 inplace=True mean it will modify the newdf."
      ]
    },
    {
      "cell_type": "code",
      "metadata": {
        "id": "EZYpjGzg91dj",
        "colab_type": "code",
        "colab": {}
      },
      "source": [
        "newdf.drop([1,5],axis=0, inplace=True)"
      ],
      "execution_count": 0,
      "outputs": []
    },
    {
      "cell_type": "code",
      "metadata": {
        "id": "yJNm4qNu-lDs",
        "colab_type": "code",
        "colab": {
          "base_uri": "https://localhost:8080/",
          "height": 419
        },
        "outputId": "30e8a406-48b8-46bd-982e-a84c967f70cc"
      },
      "source": [
        "newdf"
      ],
      "execution_count": 90,
      "outputs": [
        {
          "output_type": "execute_result",
          "data": {
            "text/html": [
              "<div>\n",
              "<style scoped>\n",
              "    .dataframe tbody tr th:only-of-type {\n",
              "        vertical-align: middle;\n",
              "    }\n",
              "\n",
              "    .dataframe tbody tr th {\n",
              "        vertical-align: top;\n",
              "    }\n",
              "\n",
              "    .dataframe thead th {\n",
              "        text-align: right;\n",
              "    }\n",
              "</style>\n",
              "<table border=\"1\" class=\"dataframe\">\n",
              "  <thead>\n",
              "    <tr style=\"text-align: right;\">\n",
              "      <th></th>\n",
              "      <th>B</th>\n",
              "      <th>D</th>\n",
              "      <th>E</th>\n",
              "    </tr>\n",
              "  </thead>\n",
              "  <tbody>\n",
              "    <tr>\n",
              "      <th>0</th>\n",
              "      <td>0.037755</td>\n",
              "      <td>0.831418</td>\n",
              "      <td>0.524184</td>\n",
              "    </tr>\n",
              "    <tr>\n",
              "      <th>2</th>\n",
              "      <td>0.219901</td>\n",
              "      <td>0.132628</td>\n",
              "      <td>0.307534</td>\n",
              "    </tr>\n",
              "    <tr>\n",
              "      <th>3</th>\n",
              "      <td>0.736057</td>\n",
              "      <td>0.284122</td>\n",
              "      <td>0.897792</td>\n",
              "    </tr>\n",
              "    <tr>\n",
              "      <th>4</th>\n",
              "      <td>0.280542</td>\n",
              "      <td>0.582474</td>\n",
              "      <td>0.486116</td>\n",
              "    </tr>\n",
              "    <tr>\n",
              "      <th>6</th>\n",
              "      <td>0.537036</td>\n",
              "      <td>0.300082</td>\n",
              "      <td>0.055523</td>\n",
              "    </tr>\n",
              "    <tr>\n",
              "      <th>...</th>\n",
              "      <td>...</td>\n",
              "      <td>...</td>\n",
              "      <td>...</td>\n",
              "    </tr>\n",
              "    <tr>\n",
              "      <th>329</th>\n",
              "      <td>0.655266</td>\n",
              "      <td>0.344342</td>\n",
              "      <td>0.916829</td>\n",
              "    </tr>\n",
              "    <tr>\n",
              "      <th>330</th>\n",
              "      <td>0.988923</td>\n",
              "      <td>0.459164</td>\n",
              "      <td>0.659026</td>\n",
              "    </tr>\n",
              "    <tr>\n",
              "      <th>331</th>\n",
              "      <td>0.036422</td>\n",
              "      <td>0.943109</td>\n",
              "      <td>0.903738</td>\n",
              "    </tr>\n",
              "    <tr>\n",
              "      <th>332</th>\n",
              "      <td>0.694116</td>\n",
              "      <td>0.585995</td>\n",
              "      <td>0.021510</td>\n",
              "    </tr>\n",
              "    <tr>\n",
              "      <th>333</th>\n",
              "      <td>0.258113</td>\n",
              "      <td>0.111352</td>\n",
              "      <td>0.277035</td>\n",
              "    </tr>\n",
              "  </tbody>\n",
              "</table>\n",
              "<p>332 rows × 3 columns</p>\n",
              "</div>"
            ],
            "text/plain": [
              "            B         D         E\n",
              "0    0.037755  0.831418  0.524184\n",
              "2    0.219901  0.132628  0.307534\n",
              "3    0.736057  0.284122  0.897792\n",
              "4    0.280542  0.582474  0.486116\n",
              "6    0.537036  0.300082  0.055523\n",
              "..        ...       ...       ...\n",
              "329  0.655266  0.344342  0.916829\n",
              "330  0.988923  0.459164  0.659026\n",
              "331  0.036422  0.943109  0.903738\n",
              "332  0.694116  0.585995  0.021510\n",
              "333  0.258113  0.111352  0.277035\n",
              "\n",
              "[332 rows x 3 columns]"
            ]
          },
          "metadata": {
            "tags": []
          },
          "execution_count": 90
        }
      ]
    },
    {
      "cell_type": "markdown",
      "metadata": {
        "id": "b9GK-zfE-nvU",
        "colab_type": "text"
      },
      "source": [
        "to reset index, but it will add one more column of index"
      ]
    },
    {
      "cell_type": "code",
      "metadata": {
        "id": "nCp0fcDt-nHv",
        "colab_type": "code",
        "colab": {
          "base_uri": "https://localhost:8080/",
          "height": 419
        },
        "outputId": "8d0acf83-1c9d-453f-aa14-69671f5bdd50"
      },
      "source": [
        "newdf.reset_index()"
      ],
      "execution_count": 91,
      "outputs": [
        {
          "output_type": "execute_result",
          "data": {
            "text/html": [
              "<div>\n",
              "<style scoped>\n",
              "    .dataframe tbody tr th:only-of-type {\n",
              "        vertical-align: middle;\n",
              "    }\n",
              "\n",
              "    .dataframe tbody tr th {\n",
              "        vertical-align: top;\n",
              "    }\n",
              "\n",
              "    .dataframe thead th {\n",
              "        text-align: right;\n",
              "    }\n",
              "</style>\n",
              "<table border=\"1\" class=\"dataframe\">\n",
              "  <thead>\n",
              "    <tr style=\"text-align: right;\">\n",
              "      <th></th>\n",
              "      <th>index</th>\n",
              "      <th>B</th>\n",
              "      <th>D</th>\n",
              "      <th>E</th>\n",
              "    </tr>\n",
              "  </thead>\n",
              "  <tbody>\n",
              "    <tr>\n",
              "      <th>0</th>\n",
              "      <td>0</td>\n",
              "      <td>0.037755</td>\n",
              "      <td>0.831418</td>\n",
              "      <td>0.524184</td>\n",
              "    </tr>\n",
              "    <tr>\n",
              "      <th>1</th>\n",
              "      <td>2</td>\n",
              "      <td>0.219901</td>\n",
              "      <td>0.132628</td>\n",
              "      <td>0.307534</td>\n",
              "    </tr>\n",
              "    <tr>\n",
              "      <th>2</th>\n",
              "      <td>3</td>\n",
              "      <td>0.736057</td>\n",
              "      <td>0.284122</td>\n",
              "      <td>0.897792</td>\n",
              "    </tr>\n",
              "    <tr>\n",
              "      <th>3</th>\n",
              "      <td>4</td>\n",
              "      <td>0.280542</td>\n",
              "      <td>0.582474</td>\n",
              "      <td>0.486116</td>\n",
              "    </tr>\n",
              "    <tr>\n",
              "      <th>4</th>\n",
              "      <td>6</td>\n",
              "      <td>0.537036</td>\n",
              "      <td>0.300082</td>\n",
              "      <td>0.055523</td>\n",
              "    </tr>\n",
              "    <tr>\n",
              "      <th>...</th>\n",
              "      <td>...</td>\n",
              "      <td>...</td>\n",
              "      <td>...</td>\n",
              "      <td>...</td>\n",
              "    </tr>\n",
              "    <tr>\n",
              "      <th>327</th>\n",
              "      <td>329</td>\n",
              "      <td>0.655266</td>\n",
              "      <td>0.344342</td>\n",
              "      <td>0.916829</td>\n",
              "    </tr>\n",
              "    <tr>\n",
              "      <th>328</th>\n",
              "      <td>330</td>\n",
              "      <td>0.988923</td>\n",
              "      <td>0.459164</td>\n",
              "      <td>0.659026</td>\n",
              "    </tr>\n",
              "    <tr>\n",
              "      <th>329</th>\n",
              "      <td>331</td>\n",
              "      <td>0.036422</td>\n",
              "      <td>0.943109</td>\n",
              "      <td>0.903738</td>\n",
              "    </tr>\n",
              "    <tr>\n",
              "      <th>330</th>\n",
              "      <td>332</td>\n",
              "      <td>0.694116</td>\n",
              "      <td>0.585995</td>\n",
              "      <td>0.021510</td>\n",
              "    </tr>\n",
              "    <tr>\n",
              "      <th>331</th>\n",
              "      <td>333</td>\n",
              "      <td>0.258113</td>\n",
              "      <td>0.111352</td>\n",
              "      <td>0.277035</td>\n",
              "    </tr>\n",
              "  </tbody>\n",
              "</table>\n",
              "<p>332 rows × 4 columns</p>\n",
              "</div>"
            ],
            "text/plain": [
              "     index         B         D         E\n",
              "0        0  0.037755  0.831418  0.524184\n",
              "1        2  0.219901  0.132628  0.307534\n",
              "2        3  0.736057  0.284122  0.897792\n",
              "3        4  0.280542  0.582474  0.486116\n",
              "4        6  0.537036  0.300082  0.055523\n",
              "..     ...       ...       ...       ...\n",
              "327    329  0.655266  0.344342  0.916829\n",
              "328    330  0.988923  0.459164  0.659026\n",
              "329    331  0.036422  0.943109  0.903738\n",
              "330    332  0.694116  0.585995  0.021510\n",
              "331    333  0.258113  0.111352  0.277035\n",
              "\n",
              "[332 rows x 4 columns]"
            ]
          },
          "metadata": {
            "tags": []
          },
          "execution_count": 91
        }
      ]
    },
    {
      "cell_type": "markdown",
      "metadata": {
        "id": "OpYn0Fsu-6nK",
        "colab_type": "text"
      },
      "source": [
        "drop=true will remove the index column, see above output."
      ]
    },
    {
      "cell_type": "code",
      "metadata": {
        "id": "ePz1r5nZ-11r",
        "colab_type": "code",
        "colab": {}
      },
      "source": [
        "newdf.reset_index(drop=True, inplace=True)"
      ],
      "execution_count": 0,
      "outputs": []
    },
    {
      "cell_type": "code",
      "metadata": {
        "id": "qOaPf4Xi_Fb3",
        "colab_type": "code",
        "colab": {
          "base_uri": "https://localhost:8080/",
          "height": 419
        },
        "outputId": "a47252a7-9f46-482e-f397-a9804f34aa79"
      },
      "source": [
        "newdf"
      ],
      "execution_count": 94,
      "outputs": [
        {
          "output_type": "execute_result",
          "data": {
            "text/html": [
              "<div>\n",
              "<style scoped>\n",
              "    .dataframe tbody tr th:only-of-type {\n",
              "        vertical-align: middle;\n",
              "    }\n",
              "\n",
              "    .dataframe tbody tr th {\n",
              "        vertical-align: top;\n",
              "    }\n",
              "\n",
              "    .dataframe thead th {\n",
              "        text-align: right;\n",
              "    }\n",
              "</style>\n",
              "<table border=\"1\" class=\"dataframe\">\n",
              "  <thead>\n",
              "    <tr style=\"text-align: right;\">\n",
              "      <th></th>\n",
              "      <th>B</th>\n",
              "      <th>D</th>\n",
              "      <th>E</th>\n",
              "    </tr>\n",
              "  </thead>\n",
              "  <tbody>\n",
              "    <tr>\n",
              "      <th>0</th>\n",
              "      <td>0.037755</td>\n",
              "      <td>0.831418</td>\n",
              "      <td>0.524184</td>\n",
              "    </tr>\n",
              "    <tr>\n",
              "      <th>1</th>\n",
              "      <td>0.219901</td>\n",
              "      <td>0.132628</td>\n",
              "      <td>0.307534</td>\n",
              "    </tr>\n",
              "    <tr>\n",
              "      <th>2</th>\n",
              "      <td>0.736057</td>\n",
              "      <td>0.284122</td>\n",
              "      <td>0.897792</td>\n",
              "    </tr>\n",
              "    <tr>\n",
              "      <th>3</th>\n",
              "      <td>0.280542</td>\n",
              "      <td>0.582474</td>\n",
              "      <td>0.486116</td>\n",
              "    </tr>\n",
              "    <tr>\n",
              "      <th>4</th>\n",
              "      <td>0.537036</td>\n",
              "      <td>0.300082</td>\n",
              "      <td>0.055523</td>\n",
              "    </tr>\n",
              "    <tr>\n",
              "      <th>...</th>\n",
              "      <td>...</td>\n",
              "      <td>...</td>\n",
              "      <td>...</td>\n",
              "    </tr>\n",
              "    <tr>\n",
              "      <th>327</th>\n",
              "      <td>0.655266</td>\n",
              "      <td>0.344342</td>\n",
              "      <td>0.916829</td>\n",
              "    </tr>\n",
              "    <tr>\n",
              "      <th>328</th>\n",
              "      <td>0.988923</td>\n",
              "      <td>0.459164</td>\n",
              "      <td>0.659026</td>\n",
              "    </tr>\n",
              "    <tr>\n",
              "      <th>329</th>\n",
              "      <td>0.036422</td>\n",
              "      <td>0.943109</td>\n",
              "      <td>0.903738</td>\n",
              "    </tr>\n",
              "    <tr>\n",
              "      <th>330</th>\n",
              "      <td>0.694116</td>\n",
              "      <td>0.585995</td>\n",
              "      <td>0.021510</td>\n",
              "    </tr>\n",
              "    <tr>\n",
              "      <th>331</th>\n",
              "      <td>0.258113</td>\n",
              "      <td>0.111352</td>\n",
              "      <td>0.277035</td>\n",
              "    </tr>\n",
              "  </tbody>\n",
              "</table>\n",
              "<p>332 rows × 3 columns</p>\n",
              "</div>"
            ],
            "text/plain": [
              "            B         D         E\n",
              "0    0.037755  0.831418  0.524184\n",
              "1    0.219901  0.132628  0.307534\n",
              "2    0.736057  0.284122  0.897792\n",
              "3    0.280542  0.582474  0.486116\n",
              "4    0.537036  0.300082  0.055523\n",
              "..        ...       ...       ...\n",
              "327  0.655266  0.344342  0.916829\n",
              "328  0.988923  0.459164  0.659026\n",
              "329  0.036422  0.943109  0.903738\n",
              "330  0.694116  0.585995  0.021510\n",
              "331  0.258113  0.111352  0.277035\n",
              "\n",
              "[332 rows x 3 columns]"
            ]
          },
          "metadata": {
            "tags": []
          },
          "execution_count": 94
        }
      ]
    },
    {
      "cell_type": "markdown",
      "metadata": {
        "id": "nuXbLC9R_f2B",
        "colab_type": "text"
      },
      "source": [
        "dropna() will remove every null elements"
      ]
    },
    {
      "cell_type": "code",
      "metadata": {
        "id": "N7O1oUhB_cMA",
        "colab_type": "code",
        "colab": {
          "base_uri": "https://localhost:8080/",
          "height": 419
        },
        "outputId": "dc040559-559d-41e1-d33f-de64f923e262"
      },
      "source": [
        "newdf.dropna()"
      ],
      "execution_count": 95,
      "outputs": [
        {
          "output_type": "execute_result",
          "data": {
            "text/html": [
              "<div>\n",
              "<style scoped>\n",
              "    .dataframe tbody tr th:only-of-type {\n",
              "        vertical-align: middle;\n",
              "    }\n",
              "\n",
              "    .dataframe tbody tr th {\n",
              "        vertical-align: top;\n",
              "    }\n",
              "\n",
              "    .dataframe thead th {\n",
              "        text-align: right;\n",
              "    }\n",
              "</style>\n",
              "<table border=\"1\" class=\"dataframe\">\n",
              "  <thead>\n",
              "    <tr style=\"text-align: right;\">\n",
              "      <th></th>\n",
              "      <th>B</th>\n",
              "      <th>D</th>\n",
              "      <th>E</th>\n",
              "    </tr>\n",
              "  </thead>\n",
              "  <tbody>\n",
              "    <tr>\n",
              "      <th>0</th>\n",
              "      <td>0.037755</td>\n",
              "      <td>0.831418</td>\n",
              "      <td>0.524184</td>\n",
              "    </tr>\n",
              "    <tr>\n",
              "      <th>1</th>\n",
              "      <td>0.219901</td>\n",
              "      <td>0.132628</td>\n",
              "      <td>0.307534</td>\n",
              "    </tr>\n",
              "    <tr>\n",
              "      <th>2</th>\n",
              "      <td>0.736057</td>\n",
              "      <td>0.284122</td>\n",
              "      <td>0.897792</td>\n",
              "    </tr>\n",
              "    <tr>\n",
              "      <th>3</th>\n",
              "      <td>0.280542</td>\n",
              "      <td>0.582474</td>\n",
              "      <td>0.486116</td>\n",
              "    </tr>\n",
              "    <tr>\n",
              "      <th>4</th>\n",
              "      <td>0.537036</td>\n",
              "      <td>0.300082</td>\n",
              "      <td>0.055523</td>\n",
              "    </tr>\n",
              "    <tr>\n",
              "      <th>...</th>\n",
              "      <td>...</td>\n",
              "      <td>...</td>\n",
              "      <td>...</td>\n",
              "    </tr>\n",
              "    <tr>\n",
              "      <th>327</th>\n",
              "      <td>0.655266</td>\n",
              "      <td>0.344342</td>\n",
              "      <td>0.916829</td>\n",
              "    </tr>\n",
              "    <tr>\n",
              "      <th>328</th>\n",
              "      <td>0.988923</td>\n",
              "      <td>0.459164</td>\n",
              "      <td>0.659026</td>\n",
              "    </tr>\n",
              "    <tr>\n",
              "      <th>329</th>\n",
              "      <td>0.036422</td>\n",
              "      <td>0.943109</td>\n",
              "      <td>0.903738</td>\n",
              "    </tr>\n",
              "    <tr>\n",
              "      <th>330</th>\n",
              "      <td>0.694116</td>\n",
              "      <td>0.585995</td>\n",
              "      <td>0.021510</td>\n",
              "    </tr>\n",
              "    <tr>\n",
              "      <th>331</th>\n",
              "      <td>0.258113</td>\n",
              "      <td>0.111352</td>\n",
              "      <td>0.277035</td>\n",
              "    </tr>\n",
              "  </tbody>\n",
              "</table>\n",
              "<p>332 rows × 3 columns</p>\n",
              "</div>"
            ],
            "text/plain": [
              "            B         D         E\n",
              "0    0.037755  0.831418  0.524184\n",
              "1    0.219901  0.132628  0.307534\n",
              "2    0.736057  0.284122  0.897792\n",
              "3    0.280542  0.582474  0.486116\n",
              "4    0.537036  0.300082  0.055523\n",
              "..        ...       ...       ...\n",
              "327  0.655266  0.344342  0.916829\n",
              "328  0.988923  0.459164  0.659026\n",
              "329  0.036422  0.943109  0.903738\n",
              "330  0.694116  0.585995  0.021510\n",
              "331  0.258113  0.111352  0.277035\n",
              "\n",
              "[332 rows x 3 columns]"
            ]
          },
          "metadata": {
            "tags": []
          },
          "execution_count": 95
        }
      ]
    },
    {
      "cell_type": "markdown",
      "metadata": {
        "id": "e4j3IQiE_ueW",
        "colab_type": "text"
      },
      "source": [
        "isnull() will give true if any element is null is B column, else it will give false"
      ]
    },
    {
      "cell_type": "code",
      "metadata": {
        "id": "_O2SPp6E_oDu",
        "colab_type": "code",
        "colab": {
          "base_uri": "https://localhost:8080/",
          "height": 221
        },
        "outputId": "9ddee54f-c796-442c-fe42-c6eeca875d32"
      },
      "source": [
        "newdf['B'].isnull()"
      ],
      "execution_count": 96,
      "outputs": [
        {
          "output_type": "execute_result",
          "data": {
            "text/plain": [
              "0      False\n",
              "1      False\n",
              "2      False\n",
              "3      False\n",
              "4      False\n",
              "       ...  \n",
              "327    False\n",
              "328    False\n",
              "329    False\n",
              "330    False\n",
              "331    False\n",
              "Name: B, Length: 332, dtype: bool"
            ]
          },
          "metadata": {
            "tags": []
          },
          "execution_count": 96
        }
      ]
    },
    {
      "cell_type": "markdown",
      "metadata": {
        "id": "EM0VE6fVAz1C",
        "colab_type": "text"
      },
      "source": [
        "will make all value none at 'B' column"
      ]
    },
    {
      "cell_type": "code",
      "metadata": {
        "id": "MIA8CMHvAv1W",
        "colab_type": "code",
        "colab": {}
      },
      "source": [
        "newdf.loc['B']=None"
      ],
      "execution_count": 0,
      "outputs": []
    },
    {
      "cell_type": "code",
      "metadata": {
        "id": "WztOweh0BCCj",
        "colab_type": "code",
        "colab": {
          "base_uri": "https://localhost:8080/",
          "height": 419
        },
        "outputId": "da7719d7-65d6-4a8a-808a-4655cbabc422"
      },
      "source": [
        "newdf"
      ],
      "execution_count": 99,
      "outputs": [
        {
          "output_type": "execute_result",
          "data": {
            "text/html": [
              "<div>\n",
              "<style scoped>\n",
              "    .dataframe tbody tr th:only-of-type {\n",
              "        vertical-align: middle;\n",
              "    }\n",
              "\n",
              "    .dataframe tbody tr th {\n",
              "        vertical-align: top;\n",
              "    }\n",
              "\n",
              "    .dataframe thead th {\n",
              "        text-align: right;\n",
              "    }\n",
              "</style>\n",
              "<table border=\"1\" class=\"dataframe\">\n",
              "  <thead>\n",
              "    <tr style=\"text-align: right;\">\n",
              "      <th></th>\n",
              "      <th>B</th>\n",
              "      <th>D</th>\n",
              "      <th>E</th>\n",
              "    </tr>\n",
              "  </thead>\n",
              "  <tbody>\n",
              "    <tr>\n",
              "      <th>0</th>\n",
              "      <td>None</td>\n",
              "      <td>0.831418</td>\n",
              "      <td>0.524184</td>\n",
              "    </tr>\n",
              "    <tr>\n",
              "      <th>1</th>\n",
              "      <td>None</td>\n",
              "      <td>0.132628</td>\n",
              "      <td>0.307534</td>\n",
              "    </tr>\n",
              "    <tr>\n",
              "      <th>2</th>\n",
              "      <td>None</td>\n",
              "      <td>0.284122</td>\n",
              "      <td>0.897792</td>\n",
              "    </tr>\n",
              "    <tr>\n",
              "      <th>3</th>\n",
              "      <td>None</td>\n",
              "      <td>0.582474</td>\n",
              "      <td>0.486116</td>\n",
              "    </tr>\n",
              "    <tr>\n",
              "      <th>4</th>\n",
              "      <td>None</td>\n",
              "      <td>0.300082</td>\n",
              "      <td>0.055523</td>\n",
              "    </tr>\n",
              "    <tr>\n",
              "      <th>...</th>\n",
              "      <td>...</td>\n",
              "      <td>...</td>\n",
              "      <td>...</td>\n",
              "    </tr>\n",
              "    <tr>\n",
              "      <th>328</th>\n",
              "      <td>None</td>\n",
              "      <td>0.459164</td>\n",
              "      <td>0.659026</td>\n",
              "    </tr>\n",
              "    <tr>\n",
              "      <th>329</th>\n",
              "      <td>None</td>\n",
              "      <td>0.943109</td>\n",
              "      <td>0.903738</td>\n",
              "    </tr>\n",
              "    <tr>\n",
              "      <th>330</th>\n",
              "      <td>None</td>\n",
              "      <td>0.585995</td>\n",
              "      <td>0.021510</td>\n",
              "    </tr>\n",
              "    <tr>\n",
              "      <th>331</th>\n",
              "      <td>None</td>\n",
              "      <td>0.111352</td>\n",
              "      <td>0.277035</td>\n",
              "    </tr>\n",
              "    <tr>\n",
              "      <th>B</th>\n",
              "      <td>None</td>\n",
              "      <td>NaN</td>\n",
              "      <td>NaN</td>\n",
              "    </tr>\n",
              "  </tbody>\n",
              "</table>\n",
              "<p>333 rows × 3 columns</p>\n",
              "</div>"
            ],
            "text/plain": [
              "        B         D         E\n",
              "0    None  0.831418  0.524184\n",
              "1    None  0.132628  0.307534\n",
              "2    None  0.284122  0.897792\n",
              "3    None  0.582474  0.486116\n",
              "4    None  0.300082  0.055523\n",
              "..    ...       ...       ...\n",
              "328  None  0.459164  0.659026\n",
              "329  None  0.943109  0.903738\n",
              "330  None  0.585995  0.021510\n",
              "331  None  0.111352  0.277035\n",
              "B    None       NaN       NaN\n",
              "\n",
              "[333 rows x 3 columns]"
            ]
          },
          "metadata": {
            "tags": []
          },
          "execution_count": 99
        }
      ]
    },
    {
      "cell_type": "code",
      "metadata": {
        "id": "WACxfABMBPLq",
        "colab_type": "code",
        "colab": {}
      },
      "source": [
        "newdf.loc[:,['B']]=None"
      ],
      "execution_count": 0,
      "outputs": []
    },
    {
      "cell_type": "code",
      "metadata": {
        "id": "secc7hu2BVsU",
        "colab_type": "code",
        "colab": {
          "base_uri": "https://localhost:8080/",
          "height": 419
        },
        "outputId": "7dc65aba-74e6-4a94-fa98-237a8fae4299"
      },
      "source": [
        "newdf"
      ],
      "execution_count": 101,
      "outputs": [
        {
          "output_type": "execute_result",
          "data": {
            "text/html": [
              "<div>\n",
              "<style scoped>\n",
              "    .dataframe tbody tr th:only-of-type {\n",
              "        vertical-align: middle;\n",
              "    }\n",
              "\n",
              "    .dataframe tbody tr th {\n",
              "        vertical-align: top;\n",
              "    }\n",
              "\n",
              "    .dataframe thead th {\n",
              "        text-align: right;\n",
              "    }\n",
              "</style>\n",
              "<table border=\"1\" class=\"dataframe\">\n",
              "  <thead>\n",
              "    <tr style=\"text-align: right;\">\n",
              "      <th></th>\n",
              "      <th>B</th>\n",
              "      <th>D</th>\n",
              "      <th>E</th>\n",
              "    </tr>\n",
              "  </thead>\n",
              "  <tbody>\n",
              "    <tr>\n",
              "      <th>0</th>\n",
              "      <td>None</td>\n",
              "      <td>0.831418</td>\n",
              "      <td>0.524184</td>\n",
              "    </tr>\n",
              "    <tr>\n",
              "      <th>1</th>\n",
              "      <td>None</td>\n",
              "      <td>0.132628</td>\n",
              "      <td>0.307534</td>\n",
              "    </tr>\n",
              "    <tr>\n",
              "      <th>2</th>\n",
              "      <td>None</td>\n",
              "      <td>0.284122</td>\n",
              "      <td>0.897792</td>\n",
              "    </tr>\n",
              "    <tr>\n",
              "      <th>3</th>\n",
              "      <td>None</td>\n",
              "      <td>0.582474</td>\n",
              "      <td>0.486116</td>\n",
              "    </tr>\n",
              "    <tr>\n",
              "      <th>4</th>\n",
              "      <td>None</td>\n",
              "      <td>0.300082</td>\n",
              "      <td>0.055523</td>\n",
              "    </tr>\n",
              "    <tr>\n",
              "      <th>...</th>\n",
              "      <td>...</td>\n",
              "      <td>...</td>\n",
              "      <td>...</td>\n",
              "    </tr>\n",
              "    <tr>\n",
              "      <th>328</th>\n",
              "      <td>None</td>\n",
              "      <td>0.459164</td>\n",
              "      <td>0.659026</td>\n",
              "    </tr>\n",
              "    <tr>\n",
              "      <th>329</th>\n",
              "      <td>None</td>\n",
              "      <td>0.943109</td>\n",
              "      <td>0.903738</td>\n",
              "    </tr>\n",
              "    <tr>\n",
              "      <th>330</th>\n",
              "      <td>None</td>\n",
              "      <td>0.585995</td>\n",
              "      <td>0.021510</td>\n",
              "    </tr>\n",
              "    <tr>\n",
              "      <th>331</th>\n",
              "      <td>None</td>\n",
              "      <td>0.111352</td>\n",
              "      <td>0.277035</td>\n",
              "    </tr>\n",
              "    <tr>\n",
              "      <th>B</th>\n",
              "      <td>None</td>\n",
              "      <td>NaN</td>\n",
              "      <td>NaN</td>\n",
              "    </tr>\n",
              "  </tbody>\n",
              "</table>\n",
              "<p>333 rows × 3 columns</p>\n",
              "</div>"
            ],
            "text/plain": [
              "        B         D         E\n",
              "0    None  0.831418  0.524184\n",
              "1    None  0.132628  0.307534\n",
              "2    None  0.284122  0.897792\n",
              "3    None  0.582474  0.486116\n",
              "4    None  0.300082  0.055523\n",
              "..    ...       ...       ...\n",
              "328  None  0.459164  0.659026\n",
              "329  None  0.943109  0.903738\n",
              "330  None  0.585995  0.021510\n",
              "331  None  0.111352  0.277035\n",
              "B    None       NaN       NaN\n",
              "\n",
              "[333 rows x 3 columns]"
            ]
          },
          "metadata": {
            "tags": []
          },
          "execution_count": 101
        }
      ]
    },
    {
      "cell_type": "code",
      "metadata": {
        "id": "jDcIgPazBc_G",
        "colab_type": "code",
        "colab": {
          "base_uri": "https://localhost:8080/",
          "height": 221
        },
        "outputId": "6907f617-0dbd-45fa-ae25-c9280dbdc031"
      },
      "source": [
        "newdf['B'].isnull()"
      ],
      "execution_count": 102,
      "outputs": [
        {
          "output_type": "execute_result",
          "data": {
            "text/plain": [
              "0      True\n",
              "1      True\n",
              "2      True\n",
              "3      True\n",
              "4      True\n",
              "       ... \n",
              "328    True\n",
              "329    True\n",
              "330    True\n",
              "331    True\n",
              "B      True\n",
              "Name: B, Length: 333, dtype: bool"
            ]
          },
          "metadata": {
            "tags": []
          },
          "execution_count": 102
        }
      ]
    },
    {
      "cell_type": "code",
      "metadata": {
        "id": "wzZ7GlJRBpI1",
        "colab_type": "code",
        "colab": {}
      },
      "source": [
        "newdf.loc[:,['B']]=34"
      ],
      "execution_count": 0,
      "outputs": []
    },
    {
      "cell_type": "code",
      "metadata": {
        "id": "kh4pNiMEB3lb",
        "colab_type": "code",
        "colab": {
          "base_uri": "https://localhost:8080/",
          "height": 204
        },
        "outputId": "f92eeb99-36bc-4e0b-f960-38ce7cdde130"
      },
      "source": [
        "newdf.head()"
      ],
      "execution_count": 105,
      "outputs": [
        {
          "output_type": "execute_result",
          "data": {
            "text/html": [
              "<div>\n",
              "<style scoped>\n",
              "    .dataframe tbody tr th:only-of-type {\n",
              "        vertical-align: middle;\n",
              "    }\n",
              "\n",
              "    .dataframe tbody tr th {\n",
              "        vertical-align: top;\n",
              "    }\n",
              "\n",
              "    .dataframe thead th {\n",
              "        text-align: right;\n",
              "    }\n",
              "</style>\n",
              "<table border=\"1\" class=\"dataframe\">\n",
              "  <thead>\n",
              "    <tr style=\"text-align: right;\">\n",
              "      <th></th>\n",
              "      <th>B</th>\n",
              "      <th>D</th>\n",
              "      <th>E</th>\n",
              "    </tr>\n",
              "  </thead>\n",
              "  <tbody>\n",
              "    <tr>\n",
              "      <th>0</th>\n",
              "      <td>34</td>\n",
              "      <td>0.831418</td>\n",
              "      <td>0.524184</td>\n",
              "    </tr>\n",
              "    <tr>\n",
              "      <th>1</th>\n",
              "      <td>34</td>\n",
              "      <td>0.132628</td>\n",
              "      <td>0.307534</td>\n",
              "    </tr>\n",
              "    <tr>\n",
              "      <th>2</th>\n",
              "      <td>34</td>\n",
              "      <td>0.284122</td>\n",
              "      <td>0.897792</td>\n",
              "    </tr>\n",
              "    <tr>\n",
              "      <th>3</th>\n",
              "      <td>34</td>\n",
              "      <td>0.582474</td>\n",
              "      <td>0.486116</td>\n",
              "    </tr>\n",
              "    <tr>\n",
              "      <th>4</th>\n",
              "      <td>34</td>\n",
              "      <td>0.300082</td>\n",
              "      <td>0.055523</td>\n",
              "    </tr>\n",
              "  </tbody>\n",
              "</table>\n",
              "</div>"
            ],
            "text/plain": [
              "    B         D         E\n",
              "0  34  0.831418  0.524184\n",
              "1  34  0.132628  0.307534\n",
              "2  34  0.284122  0.897792\n",
              "3  34  0.582474  0.486116\n",
              "4  34  0.300082  0.055523"
            ]
          },
          "metadata": {
            "tags": []
          },
          "execution_count": 105
        }
      ]
    },
    {
      "cell_type": "code",
      "metadata": {
        "id": "BkzBSjtqB-eR",
        "colab_type": "code",
        "colab": {}
      },
      "source": [
        "df=df = pd.DataFrame({\"name\": ['Alfred', 'Batman', 'Catwoman'],\n",
        "                   \"toy\": [np.nan, 'Batmobile', 'Bullwhip'],\n",
        "                   \"born\": [pd.NaT, pd.Timestamp(\"1940-04-25\"),\n",
        "                            pd.NaT]})"
      ],
      "execution_count": 0,
      "outputs": []
    },
    {
      "cell_type": "code",
      "metadata": {
        "id": "fl1o_uTcCUNa",
        "colab_type": "code",
        "colab": {
          "base_uri": "https://localhost:8080/",
          "height": 142
        },
        "outputId": "d46efc92-9beb-42ea-c715-4a83b2ea187c"
      },
      "source": [
        "df.head()"
      ],
      "execution_count": 107,
      "outputs": [
        {
          "output_type": "execute_result",
          "data": {
            "text/html": [
              "<div>\n",
              "<style scoped>\n",
              "    .dataframe tbody tr th:only-of-type {\n",
              "        vertical-align: middle;\n",
              "    }\n",
              "\n",
              "    .dataframe tbody tr th {\n",
              "        vertical-align: top;\n",
              "    }\n",
              "\n",
              "    .dataframe thead th {\n",
              "        text-align: right;\n",
              "    }\n",
              "</style>\n",
              "<table border=\"1\" class=\"dataframe\">\n",
              "  <thead>\n",
              "    <tr style=\"text-align: right;\">\n",
              "      <th></th>\n",
              "      <th>name</th>\n",
              "      <th>toy</th>\n",
              "      <th>born</th>\n",
              "    </tr>\n",
              "  </thead>\n",
              "  <tbody>\n",
              "    <tr>\n",
              "      <th>0</th>\n",
              "      <td>Alfred</td>\n",
              "      <td>NaN</td>\n",
              "      <td>NaT</td>\n",
              "    </tr>\n",
              "    <tr>\n",
              "      <th>1</th>\n",
              "      <td>Batman</td>\n",
              "      <td>Batmobile</td>\n",
              "      <td>1940-04-25</td>\n",
              "    </tr>\n",
              "    <tr>\n",
              "      <th>2</th>\n",
              "      <td>Catwoman</td>\n",
              "      <td>Bullwhip</td>\n",
              "      <td>NaT</td>\n",
              "    </tr>\n",
              "  </tbody>\n",
              "</table>\n",
              "</div>"
            ],
            "text/plain": [
              "       name        toy       born\n",
              "0    Alfred        NaN        NaT\n",
              "1    Batman  Batmobile 1940-04-25\n",
              "2  Catwoman   Bullwhip        NaT"
            ]
          },
          "metadata": {
            "tags": []
          },
          "execution_count": 107
        }
      ]
    },
    {
      "cell_type": "code",
      "metadata": {
        "id": "Nwgnbs1tCWBY",
        "colab_type": "code",
        "colab": {
          "base_uri": "https://localhost:8080/",
          "height": 80
        },
        "outputId": "f9f4f735-760d-43a6-f001-2acf3623febf"
      },
      "source": [
        "df.dropna()"
      ],
      "execution_count": 109,
      "outputs": [
        {
          "output_type": "execute_result",
          "data": {
            "text/html": [
              "<div>\n",
              "<style scoped>\n",
              "    .dataframe tbody tr th:only-of-type {\n",
              "        vertical-align: middle;\n",
              "    }\n",
              "\n",
              "    .dataframe tbody tr th {\n",
              "        vertical-align: top;\n",
              "    }\n",
              "\n",
              "    .dataframe thead th {\n",
              "        text-align: right;\n",
              "    }\n",
              "</style>\n",
              "<table border=\"1\" class=\"dataframe\">\n",
              "  <thead>\n",
              "    <tr style=\"text-align: right;\">\n",
              "      <th></th>\n",
              "      <th>name</th>\n",
              "      <th>toy</th>\n",
              "      <th>born</th>\n",
              "    </tr>\n",
              "  </thead>\n",
              "  <tbody>\n",
              "    <tr>\n",
              "      <th>1</th>\n",
              "      <td>Batman</td>\n",
              "      <td>Batmobile</td>\n",
              "      <td>1940-04-25</td>\n",
              "    </tr>\n",
              "  </tbody>\n",
              "</table>\n",
              "</div>"
            ],
            "text/plain": [
              "     name        toy       born\n",
              "1  Batman  Batmobile 1940-04-25"
            ]
          },
          "metadata": {
            "tags": []
          },
          "execution_count": 109
        }
      ]
    },
    {
      "cell_type": "markdown",
      "metadata": {
        "id": "Kexs8q7IDteK",
        "colab_type": "text"
      },
      "source": [
        "dropna will remove null only if all the elements in column are null."
      ]
    },
    {
      "cell_type": "code",
      "metadata": {
        "id": "6l6g9n0LDbTx",
        "colab_type": "code",
        "colab": {
          "base_uri": "https://localhost:8080/",
          "height": 142
        },
        "outputId": "3f25d759-a36d-4ac7-b6e7-bf817fabc2b8"
      },
      "source": [
        "df.dropna(how='all')"
      ],
      "execution_count": 110,
      "outputs": [
        {
          "output_type": "execute_result",
          "data": {
            "text/html": [
              "<div>\n",
              "<style scoped>\n",
              "    .dataframe tbody tr th:only-of-type {\n",
              "        vertical-align: middle;\n",
              "    }\n",
              "\n",
              "    .dataframe tbody tr th {\n",
              "        vertical-align: top;\n",
              "    }\n",
              "\n",
              "    .dataframe thead th {\n",
              "        text-align: right;\n",
              "    }\n",
              "</style>\n",
              "<table border=\"1\" class=\"dataframe\">\n",
              "  <thead>\n",
              "    <tr style=\"text-align: right;\">\n",
              "      <th></th>\n",
              "      <th>name</th>\n",
              "      <th>toy</th>\n",
              "      <th>born</th>\n",
              "    </tr>\n",
              "  </thead>\n",
              "  <tbody>\n",
              "    <tr>\n",
              "      <th>0</th>\n",
              "      <td>Alfred</td>\n",
              "      <td>NaN</td>\n",
              "      <td>NaT</td>\n",
              "    </tr>\n",
              "    <tr>\n",
              "      <th>1</th>\n",
              "      <td>Batman</td>\n",
              "      <td>Batmobile</td>\n",
              "      <td>1940-04-25</td>\n",
              "    </tr>\n",
              "    <tr>\n",
              "      <th>2</th>\n",
              "      <td>Catwoman</td>\n",
              "      <td>Bullwhip</td>\n",
              "      <td>NaT</td>\n",
              "    </tr>\n",
              "  </tbody>\n",
              "</table>\n",
              "</div>"
            ],
            "text/plain": [
              "       name        toy       born\n",
              "0    Alfred        NaN        NaT\n",
              "1    Batman  Batmobile 1940-04-25\n",
              "2  Catwoman   Bullwhip        NaT"
            ]
          },
          "metadata": {
            "tags": []
          },
          "execution_count": 110
        }
      ]
    },
    {
      "cell_type": "code",
      "metadata": {
        "id": "gKzxDDuzEGDD",
        "colab_type": "code",
        "colab": {}
      },
      "source": [
        "df1=pd.DataFrame({\"name\": ['Alfred', 'Batman', 'Alfred'],\n",
        "                   \"toy\": [np.nan, 'Batmobile', 'Bullwhip'],\n",
        "                   \"born\": [pd.NaT, pd.Timestamp(\"1940-04-25\"),\n",
        "                            pd.NaT]})"
      ],
      "execution_count": 0,
      "outputs": []
    },
    {
      "cell_type": "code",
      "metadata": {
        "id": "86uanmgmEML8",
        "colab_type": "code",
        "colab": {
          "base_uri": "https://localhost:8080/",
          "height": 142
        },
        "outputId": "6ab69fa9-fb43-419d-a15b-f68bf7568539"
      },
      "source": [
        "df1.drop_duplicates()"
      ],
      "execution_count": 114,
      "outputs": [
        {
          "output_type": "execute_result",
          "data": {
            "text/html": [
              "<div>\n",
              "<style scoped>\n",
              "    .dataframe tbody tr th:only-of-type {\n",
              "        vertical-align: middle;\n",
              "    }\n",
              "\n",
              "    .dataframe tbody tr th {\n",
              "        vertical-align: top;\n",
              "    }\n",
              "\n",
              "    .dataframe thead th {\n",
              "        text-align: right;\n",
              "    }\n",
              "</style>\n",
              "<table border=\"1\" class=\"dataframe\">\n",
              "  <thead>\n",
              "    <tr style=\"text-align: right;\">\n",
              "      <th></th>\n",
              "      <th>name</th>\n",
              "      <th>toy</th>\n",
              "      <th>born</th>\n",
              "    </tr>\n",
              "  </thead>\n",
              "  <tbody>\n",
              "    <tr>\n",
              "      <th>0</th>\n",
              "      <td>Alfred</td>\n",
              "      <td>NaN</td>\n",
              "      <td>NaT</td>\n",
              "    </tr>\n",
              "    <tr>\n",
              "      <th>1</th>\n",
              "      <td>Batman</td>\n",
              "      <td>Batmobile</td>\n",
              "      <td>1940-04-25</td>\n",
              "    </tr>\n",
              "    <tr>\n",
              "      <th>2</th>\n",
              "      <td>Alfred</td>\n",
              "      <td>Bullwhip</td>\n",
              "      <td>NaT</td>\n",
              "    </tr>\n",
              "  </tbody>\n",
              "</table>\n",
              "</div>"
            ],
            "text/plain": [
              "     name        toy       born\n",
              "0  Alfred        NaN        NaT\n",
              "1  Batman  Batmobile 1940-04-25\n",
              "2  Alfred   Bullwhip        NaT"
            ]
          },
          "metadata": {
            "tags": []
          },
          "execution_count": 114
        }
      ]
    },
    {
      "cell_type": "markdown",
      "metadata": {
        "id": "qgHUgN96EinF",
        "colab_type": "text"
      },
      "source": [
        "as drop_duplicates doesnot take **axis** as an argument so we have to use **subset** here.\n",
        "keep will let you choose which duplicate you want to keep"
      ]
    },
    {
      "cell_type": "code",
      "metadata": {
        "id": "1M8JALsrEXK1",
        "colab_type": "code",
        "colab": {
          "base_uri": "https://localhost:8080/",
          "height": 111
        },
        "outputId": "ce1b6b56-d353-4b1a-e661-a9e24639bc1c"
      },
      "source": [
        "df1.drop_duplicates(subset=['name'],keep='last')"
      ],
      "execution_count": 117,
      "outputs": [
        {
          "output_type": "execute_result",
          "data": {
            "text/html": [
              "<div>\n",
              "<style scoped>\n",
              "    .dataframe tbody tr th:only-of-type {\n",
              "        vertical-align: middle;\n",
              "    }\n",
              "\n",
              "    .dataframe tbody tr th {\n",
              "        vertical-align: top;\n",
              "    }\n",
              "\n",
              "    .dataframe thead th {\n",
              "        text-align: right;\n",
              "    }\n",
              "</style>\n",
              "<table border=\"1\" class=\"dataframe\">\n",
              "  <thead>\n",
              "    <tr style=\"text-align: right;\">\n",
              "      <th></th>\n",
              "      <th>name</th>\n",
              "      <th>toy</th>\n",
              "      <th>born</th>\n",
              "    </tr>\n",
              "  </thead>\n",
              "  <tbody>\n",
              "    <tr>\n",
              "      <th>1</th>\n",
              "      <td>Batman</td>\n",
              "      <td>Batmobile</td>\n",
              "      <td>1940-04-25</td>\n",
              "    </tr>\n",
              "    <tr>\n",
              "      <th>2</th>\n",
              "      <td>Alfred</td>\n",
              "      <td>Bullwhip</td>\n",
              "      <td>NaT</td>\n",
              "    </tr>\n",
              "  </tbody>\n",
              "</table>\n",
              "</div>"
            ],
            "text/plain": [
              "     name        toy       born\n",
              "1  Batman  Batmobile 1940-04-25\n",
              "2  Alfred   Bullwhip        NaT"
            ]
          },
          "metadata": {
            "tags": []
          },
          "execution_count": 117
        }
      ]
    },
    {
      "cell_type": "code",
      "metadata": {
        "id": "lE-Qmc3AEhEO",
        "colab_type": "code",
        "colab": {
          "base_uri": "https://localhost:8080/",
          "height": 34
        },
        "outputId": "a310d07c-2cc0-46c0-a3e1-2ea844b622fb"
      },
      "source": [
        "df.shape"
      ],
      "execution_count": 118,
      "outputs": [
        {
          "output_type": "execute_result",
          "data": {
            "text/plain": [
              "(3, 3)"
            ]
          },
          "metadata": {
            "tags": []
          },
          "execution_count": 118
        }
      ]
    },
    {
      "cell_type": "markdown",
      "metadata": {
        "id": "x8VjQwDGFc-P",
        "colab_type": "text"
      },
      "source": [
        "information about df"
      ]
    },
    {
      "cell_type": "code",
      "metadata": {
        "id": "ca7qlqBnFY4P",
        "colab_type": "code",
        "colab": {
          "base_uri": "https://localhost:8080/",
          "height": 187
        },
        "outputId": "a0015a7c-c678-4e1d-ed32-619ac22e5251"
      },
      "source": [
        "df.info()"
      ],
      "execution_count": 120,
      "outputs": [
        {
          "output_type": "stream",
          "text": [
            "<class 'pandas.core.frame.DataFrame'>\n",
            "RangeIndex: 3 entries, 0 to 2\n",
            "Data columns (total 3 columns):\n",
            " #   Column  Non-Null Count  Dtype         \n",
            "---  ------  --------------  -----         \n",
            " 0   name    3 non-null      object        \n",
            " 1   toy     2 non-null      object        \n",
            " 2   born    1 non-null      datetime64[ns]\n",
            "dtypes: datetime64[ns](1), object(2)\n",
            "memory usage: 200.0+ bytes\n"
          ],
          "name": "stdout"
        }
      ]
    },
    {
      "cell_type": "code",
      "metadata": {
        "id": "scMDd1hkFfPF",
        "colab_type": "code",
        "colab": {
          "base_uri": "https://localhost:8080/",
          "height": 68
        },
        "outputId": "144fdd59-70b5-44f6-8687-ed740c9d377f"
      },
      "source": [
        "df1['toy'].value_counts(dropna=True)"
      ],
      "execution_count": 125,
      "outputs": [
        {
          "output_type": "execute_result",
          "data": {
            "text/plain": [
              "Bullwhip     1\n",
              "Batmobile    1\n",
              "Name: toy, dtype: int64"
            ]
          },
          "metadata": {
            "tags": []
          },
          "execution_count": 125
        }
      ]
    },
    {
      "cell_type": "markdown",
      "metadata": {
        "id": "JF_AO848GBk5",
        "colab_type": "text"
      },
      "source": [
        "true on not null values and vice-versa"
      ]
    },
    {
      "cell_type": "code",
      "metadata": {
        "id": "SzMjX6KsF-cL",
        "colab_type": "code",
        "colab": {
          "base_uri": "https://localhost:8080/",
          "height": 142
        },
        "outputId": "8a750381-f5c4-4116-ece4-7190bccf8397"
      },
      "source": [
        "df.notnull()"
      ],
      "execution_count": 126,
      "outputs": [
        {
          "output_type": "execute_result",
          "data": {
            "text/html": [
              "<div>\n",
              "<style scoped>\n",
              "    .dataframe tbody tr th:only-of-type {\n",
              "        vertical-align: middle;\n",
              "    }\n",
              "\n",
              "    .dataframe tbody tr th {\n",
              "        vertical-align: top;\n",
              "    }\n",
              "\n",
              "    .dataframe thead th {\n",
              "        text-align: right;\n",
              "    }\n",
              "</style>\n",
              "<table border=\"1\" class=\"dataframe\">\n",
              "  <thead>\n",
              "    <tr style=\"text-align: right;\">\n",
              "      <th></th>\n",
              "      <th>name</th>\n",
              "      <th>toy</th>\n",
              "      <th>born</th>\n",
              "    </tr>\n",
              "  </thead>\n",
              "  <tbody>\n",
              "    <tr>\n",
              "      <th>0</th>\n",
              "      <td>True</td>\n",
              "      <td>False</td>\n",
              "      <td>False</td>\n",
              "    </tr>\n",
              "    <tr>\n",
              "      <th>1</th>\n",
              "      <td>True</td>\n",
              "      <td>True</td>\n",
              "      <td>True</td>\n",
              "    </tr>\n",
              "    <tr>\n",
              "      <th>2</th>\n",
              "      <td>True</td>\n",
              "      <td>True</td>\n",
              "      <td>False</td>\n",
              "    </tr>\n",
              "  </tbody>\n",
              "</table>\n",
              "</div>"
            ],
            "text/plain": [
              "   name    toy   born\n",
              "0  True  False  False\n",
              "1  True   True   True\n",
              "2  True   True  False"
            ]
          },
          "metadata": {
            "tags": []
          },
          "execution_count": 126
        }
      ]
    },
    {
      "cell_type": "markdown",
      "metadata": {
        "id": "6s9_ujrIGmhX",
        "colab_type": "text"
      },
      "source": [
        "# Question\n",
        "create a dataframe which contains only integers with 3 rows and columns\n",
        "\n",
        "run following methods:\n",
        "df.describe()\n",
        "df.mean()\n",
        "df.corr()\n",
        "df.count()\n",
        "df.max()\n",
        "df.min()\n",
        "df.median()\n",
        "df.std()"
      ]
    },
    {
      "cell_type": "code",
      "metadata": {
        "id": "Tb_rJE89GK-d",
        "colab_type": "code",
        "colab": {}
      },
      "source": [
        "#data=pd.read_excel('name.xlxs', sheet_name='sheet1')\n",
        "#to read sheets"
      ],
      "execution_count": 0,
      "outputs": []
    }
  ]
}